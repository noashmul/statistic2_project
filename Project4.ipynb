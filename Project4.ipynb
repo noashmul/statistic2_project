{
  "nbformat": 4,
  "nbformat_minor": 0,
  "metadata": {
    "colab": {
      "name": "Project4.ipynb",
      "provenance": [],
      "collapsed_sections": [],
      "toc_visible": true
    },
    "kernelspec": {
      "name": "python3",
      "display_name": "Python 3"
    }
  },
  "cells": [
    {
      "cell_type": "markdown",
      "metadata": {
        "id": "UUAC8sEb56TD"
      },
      "source": [
        "#Project 4\n"
      ]
    },
    {
      "cell_type": "markdown",
      "metadata": {
        "id": "flWgVUXg8jBE"
      },
      "source": [
        "##Part 1"
      ]
    },
    {
      "cell_type": "markdown",
      "metadata": {
        "id": "oXgpWMgK8nyz"
      },
      "source": [
        "###Q1"
      ]
    },
    {
      "cell_type": "markdown",
      "metadata": {
        "id": "Rx_gKc2O-YOx"
      },
      "source": [
        "The research question from part 3:\n",
        "Is gender, BMI, heart disease and heart rate effect on cholesterol level?"
      ]
    },
    {
      "cell_type": "code",
      "metadata": {
        "id": "Q0U8XqHQ5QOj"
      },
      "source": [
        "import pandas as pd\n",
        "import numpy as np\n",
        "import random\n",
        "from scipy import stats\n",
        "import math\n",
        "import matplotlib.pyplot as plt\n",
        "import scipy\n",
        "\n",
        "df = pd.read_csv(\"/content/framingham_heart_disease.csv\")\n",
        "\n",
        "#choose 200 samples randomly.\n",
        "random.seed(1)\n",
        "n_200 = random.sample(range(0,len(df)),200)\n",
        "df_200= df.loc[n_200]"
      ],
      "execution_count": null,
      "outputs": []
    },
    {
      "cell_type": "markdown",
      "metadata": {
        "id": "yUtfbHdx-pf-"
      },
      "source": [
        "####A"
      ]
    },
    {
      "cell_type": "code",
      "metadata": {
        "id": "ByTp6ncF_sYs",
        "colab": {
          "base_uri": "https://localhost:8080/",
          "height": 71
        },
        "outputId": "1ff2377f-b45d-4b91-f090-6b34a04282ae"
      },
      "source": [
        "import statsmodels.api as sm\n",
        "from statsmodels.regression.linear_model import OLS\n",
        "\n",
        "#remove null values and take only wanted variables\n",
        "tmp_200 = df_200[['male', 'BMI','TenYearCHD', 'heartRate','totChol']].dropna()\n",
        "\n",
        "# linear regression on our 200 samples\n",
        "x = tmp_200[['male', 'BMI','TenYearCHD', 'heartRate']]\n",
        "x = sm.add_constant(x)\n",
        "y = tmp_200['totChol']\n",
        "model = OLS(y,x)\n",
        "results = model.fit()\n"
      ],
      "execution_count": null,
      "outputs": [
        {
          "output_type": "stream",
          "text": [
            "/usr/local/lib/python3.6/dist-packages/statsmodels/tools/_testing.py:19: FutureWarning: pandas.util.testing is deprecated. Use the functions in the public API at pandas.testing instead.\n",
            "  import pandas.util.testing as tm\n"
          ],
          "name": "stderr"
        }
      ]
    },
    {
      "cell_type": "code",
      "metadata": {
        "id": "Rdvu17PZxwy7"
      },
      "source": [
        "CI_0 , CI_1, CI_2, CI_3, CI_4 = dict(), dict(),dict(),dict(),dict() "
      ],
      "execution_count": null,
      "outputs": []
    },
    {
      "cell_type": "markdown",
      "metadata": {
        "id": "t9TN5BSMvHQN"
      },
      "source": [
        "The CI using normal approximation: \n",
        "\n",
        "for $\\beta_i : \\hat{\\beta_i} \\pm Z_{\\alpha/2}\\cdot\\hat{s.e(\\hat{\\beta_i})} $\n",
        "\n",
        "$ \\hat{s.e(\\hat{\\beta_i})} $ = $ \\sqrt{\\hat{\\sigma_{\\epsilon}^2} \\cdot C_{i,i}} $"
      ]
    },
    {
      "cell_type": "code",
      "metadata": {
        "id": "dCKh1JnP-As1",
        "colab": {
          "base_uri": "https://localhost:8080/",
          "height": 357
        },
        "outputId": "b1ff6187-4ffd-4445-cf78-03d1c76b8fe3"
      },
      "source": [
        "data = x.to_numpy()\n",
        "C = np.linalg.inv(np.matmul(data.T, data))\n",
        "beta_hat = results.params #the beta for the 200 samples\n",
        "def creat_ci (C, i):\n",
        "  beta_name = [\"const\", \"male\", \"BMI\", \"TenYearCHD\", \"heartRate\"]\n",
        "  var_hat = results.mse_resid * C[i][i]\n",
        "  ci_a =  beta_hat[i] - stats.norm.ppf(0.975)* np.sqrt(var_hat)\n",
        "  ci_b = beta_hat[i] + stats.norm.ppf(0.975)* np.sqrt(var_hat)\n",
        "  print(\"The confidence interval for b\",i,\"-\", beta_name[i], \"is:\")\n",
        "  print([ci_a , ci_b])\n",
        "  print(\"\\n\")\n",
        "  mycode = \"CI_{}[1]=[ci_a,ci_b]\".format(i)\n",
        "  exec(mycode)\n",
        "\n",
        "for i in range(5):\n",
        "  creat_ci(C, i)\n"
      ],
      "execution_count": null,
      "outputs": [
        {
          "output_type": "stream",
          "text": [
            "The confidence interval for b 0 - const is:\n",
            "[99.67066702605803, 201.40911674920198]\n",
            "\n",
            "\n",
            "The confidence interval for b 1 - male is:\n",
            "[-26.69426439584401, -3.2049045800707017]\n",
            "\n",
            "\n",
            "The confidence interval for b 2 - BMI is:\n",
            "[0.22951152022721266, 3.0146274667561137]\n",
            "\n",
            "\n",
            "The confidence interval for b 3 - TenYearCHD is:\n",
            "[-1.4314977092620556, 30.491280525466856]\n",
            "\n",
            "\n",
            "The confidence interval for b 4 - heartRate is:\n",
            "[0.21397973166044026, 1.1647044695901179]\n",
            "\n",
            "\n"
          ],
          "name": "stdout"
        }
      ]
    },
    {
      "cell_type": "markdown",
      "metadata": {
        "id": "PrPY3_ZWAHQX"
      },
      "source": [
        "####B\n"
      ]
    },
    {
      "cell_type": "markdown",
      "metadata": {
        "id": "3-HPeZsBxJ_w"
      },
      "source": [
        "The CI using normal approximation: \n",
        "\n",
        "for $\\beta_i : \\hat{\\beta_i} \\pm Z_{\\alpha/2}\\cdot\\hat{s.e_{boost}(\\hat{\\beta_i})} $\n",
        "\n",
        "when $\\hat{s.e}_{boost}(\\hat{\\beta_i}) = \\sqrt{\\frac{1}{400}\\sum_{b=1}^{400}{\\beta^{*b}_i}^2 - {(\\frac{1}{400}\\sum_{b=1}^{400}\\beta^{*b}_i)}^2}$ \n"
      ]
    },
    {
      "cell_type": "code",
      "metadata": {
        "id": "I7nHEqhTSXbJ"
      },
      "source": [
        "def calc_std(arr):\n",
        "  return np.sqrt(sum(arr**2)/400 -(sum(arr)/400)**2)"
      ],
      "execution_count": null,
      "outputs": []
    },
    {
      "cell_type": "code",
      "metadata": {
        "id": "zTPtw6KaOpi6",
        "colab": {
          "base_uri": "https://localhost:8080/",
          "height": 272
        },
        "outputId": "cbc3dba6-dae7-4184-9a8e-91a6c6deffd5"
      },
      "source": [
        "b_0 = []\n",
        "b_1 = []\n",
        "b_2 = []\n",
        "b_3 = []\n",
        "b_4 = []\n",
        "\n",
        "\n",
        "for b in range(400):\n",
        "  n_b = np.random.choice(n_200,200)\n",
        "  df_b = df_200.loc[n_b]\n",
        "  df_b = df_b[['male', 'BMI','TenYearCHD', 'heartRate','totChol']].dropna()\n",
        "  data_b = df_b[['male', 'BMI','TenYearCHD', 'heartRate']].to_numpy()\n",
        "  data_b = sm.add_constant(data_b)\n",
        "  y_b = df_b['totChol']\n",
        "  model_b = OLS(y_b,data_b)\n",
        "  results_b = model_b.fit()\n",
        "  beta_hat = results_b.params\n",
        "\n",
        "  for i, b in enumerate([b_0, b_1, b_2, b_3, b_4]):\n",
        "    b.append(beta_hat[i])\n",
        "\n",
        "se_0_hat = calc_std(np.array(b_0))\n",
        "se_1_hat = calc_std(np.array(b_1))\n",
        "se_2_hat = calc_std(np.array(b_2))\n",
        "se_3_hat = calc_std(np.array(b_3))\n",
        "se_4_hat = calc_std(np.array(b_4))\n",
        "\n",
        "param = results.params\n",
        "for i, se in enumerate([se_0_hat, se_1_hat, se_2_hat, se_3_hat, se_4_hat]):\n",
        "  a = param[i] - scipy.stats.norm.ppf(0.975)*se\n",
        "  b = param[i] + scipy.stats.norm.ppf(0.975)*se\n",
        "  print(\"CI for beta\", i, \"is:\", [a,b] )\n",
        "  print(\"\\n\")\n",
        "  mycode = \"CI_{}[2]=[a,b]\".format(i)\n",
        "  exec(mycode)"
      ],
      "execution_count": null,
      "outputs": [
        {
          "output_type": "stream",
          "text": [
            "CI for beta 0 is: [96.90179021170815, 204.17799356355187]\n",
            "\n",
            "\n",
            "CI for beta 1 is: [-26.144977851871918, -3.7541911240427908]\n",
            "\n",
            "\n",
            "CI for beta 2 is: [0.06096434992817512, 3.1831746370551515]\n",
            "\n",
            "\n",
            "CI for beta 3 is: [-0.10884368606183514, 29.168626502266637]\n",
            "\n",
            "\n",
            "CI for beta 4 is: [0.15287125526255585, 1.2258129459880025]\n",
            "\n",
            "\n"
          ],
          "name": "stdout"
        }
      ]
    },
    {
      "cell_type": "markdown",
      "metadata": {
        "id": "PkXnfL7OORVG"
      },
      "source": [
        "####C + D"
      ]
    },
    {
      "cell_type": "markdown",
      "metadata": {
        "id": "1S0L4VD1yvd2"
      },
      "source": [
        "Pivot CI for $\\beta_i$: $[2\\hat{\\beta_i} - \\hat{\\beta}^*_{i,1-\\alpha/2}, 2\\hat{\\beta_i} - \\hat{\\beta}^*_{i,\\alpha/2}]$\n",
        "\n",
        "Precentil CI for $\\beta_i$: $[  \\hat{\\beta}^*_{i,\\alpha/2} ,  \\hat{\\beta}^*_{i,1-\\alpha/2} ]$"
      ]
    },
    {
      "cell_type": "code",
      "metadata": {
        "id": "_IVqTO1ILPXW",
        "colab": {
          "base_uri": "https://localhost:8080/",
          "height": 561
        },
        "outputId": "3b0ab5ce-7eaa-40b4-d05e-3ca190f3567f"
      },
      "source": [
        "b_0 = []\n",
        "b_1 = []\n",
        "b_2 = []\n",
        "b_3 = []\n",
        "b_4 = []\n",
        "beta_hat = results.params #the beta for the 200 samples\n",
        "\n",
        "for b in range(400):\n",
        "  n_b = np.random.choice(n_200,200)\n",
        "  df_b = df_200.loc[n_b]\n",
        "  df_b = df_b[['male', 'BMI','TenYearCHD', 'heartRate','totChol']].dropna()\n",
        "  data_b = df_b[['male', 'BMI','TenYearCHD', 'heartRate']].to_numpy()\n",
        "  data_b = sm.add_constant(data_b)\n",
        "  y_b = df_b['totChol']\n",
        "  model_b = OLS(y_b,data_b)\n",
        "  results_b = model_b.fit()\n",
        "\n",
        "  for i, beta in enumerate([b_0, b_1, b_2, b_3, b_4]):\n",
        "    beta.append(results_b.params[i])\n",
        "\n",
        "for i, beta in enumerate([b_0, b_1, b_2, b_3, b_4]):\n",
        "  beta.sort()\n",
        "  a_pivot = 2*beta_hat[i] - beta[389]\n",
        "  b_pivot = 2*beta_hat[i] - beta[9]\n",
        "  print(\"The pivot CI for beta\", i, \"is:\", [a_pivot,b_pivot])\n",
        "  print(\"\\n\")\n",
        "  mycode = \"CI_{}[3]=[a_pivot,b_pivot]\".format(i)\n",
        "  exec(mycode)\n",
        "print(\"\\n\")\n",
        "\n",
        "for i, beta in enumerate([b_0, b_1, b_2, b_3, b_4]):\n",
        "  beta.sort()\n",
        "  a_precent = beta[9]\n",
        "  b_precent = beta[389]\n",
        "  print(\"The precentil CI for beta\", i, \"is:\", [a_precent, b_precent])\n",
        "  print(\"\\n\")\n",
        "  mycode = \"CI_{}[4]=[a_precent,b_precent]\".format(i)\n",
        "  exec(mycode)\n",
        "\n",
        "\n"
      ],
      "execution_count": null,
      "outputs": [
        {
          "output_type": "stream",
          "text": [
            "The pivot CI for beta 0 is: [104.0661682927612, 199.52947433906138]\n",
            "\n",
            "\n",
            "The pivot CI for beta 1 is: [-25.764911185660537, -4.092395583403029]\n",
            "\n",
            "\n",
            "The pivot CI for beta 2 is: [-0.27161784325866734, 3.1185059487396325]\n",
            "\n",
            "\n",
            "The pivot CI for beta 3 is: [-2.1456268654902217, 30.107404284972965]\n",
            "\n",
            "\n",
            "The pivot CI for beta 4 is: [0.21798573627896278, 1.2549746178561065]\n",
            "\n",
            "\n",
            "\n",
            "\n",
            "The precentil CI for beta 0 is: [101.55030943619863, 197.0136154824988]\n",
            "\n",
            "\n",
            "The precentil CI for beta 1 is: [-25.80677339251168, -4.1342577902541695]\n",
            "\n",
            "\n",
            "The precentil CI for beta 2 is: [0.12563303824369398, 3.515756830241994]\n",
            "\n",
            "\n",
            "The precentil CI for beta 3 is: [-1.0476214687681624, 31.205409681695023]\n",
            "\n",
            "\n",
            "The precentil CI for beta 4 is: [0.12370958339445162, 1.1606984649715955]\n",
            "\n",
            "\n"
          ],
          "name": "stdout"
        }
      ]
    },
    {
      "cell_type": "markdown",
      "metadata": {
        "id": "xtlcZ_lt8ibI"
      },
      "source": [
        "###Q2"
      ]
    },
    {
      "cell_type": "code",
      "metadata": {
        "id": "9BwF-lTFOtYN",
        "colab": {
          "base_uri": "https://localhost:8080/",
          "height": 1000
        },
        "outputId": "84db284a-3bee-4020-8307-f026f54e1c4f"
      },
      "source": [
        "tmp_full = df[['male', 'BMI','TenYearCHD', 'heartRate','totChol']].dropna() #all the data without missinf values\n",
        "x_full = tmp_full[['male', 'BMI','TenYearCHD', 'heartRate']]\n",
        "x_full = sm.add_constant(x_full)\n",
        "y_full = tmp_full['totChol']\n",
        "model_full = OLS(y_full,x_full)\n",
        "results_full = model_full.fit()\n",
        "beta_full = results_full.params\n",
        "beta_name = [\"const\", \"male\", \"BMI\", \"TenYearCHD\", \"heartRate\"]\n",
        "\n",
        "for i, CI in enumerate([CI_0, CI_1, CI_2, CI_3, CI_4]):\n",
        "  for j in range(1,5):\n",
        "    if beta_full[i] >= CI[j][0] and beta_full[i] <= CI[j][1]:\n",
        "      print(\"beta\",i, \"is in the CI of section\", j, \"in question 1\")\n",
        "    else:\n",
        "      print(\"beta\",i, \"is not in the CI of section\", j, \"in question 1\")\n",
        "    print(\"the length of the CI of section\", j, \"in question 1 is: \", abs(CI[j][1]-CI[j][0]))\n",
        "    print(\"\\n\")\n",
        "\n",
        "\n",
        "  xmin = [CI[4][0], CI[3][0] , CI[2][0],CI[1][0]]\n",
        "  xmax = [CI[4][1], CI[3][1], CI[2][1], CI[1][1]]\n",
        "  y = [0,1,2,3]\n",
        "  x_labels = [ ' percentile bootstrap', ' pivotal bootstrap',' normal approx. bootstrap' ,' normal approx.'  ]\n",
        "  for j,c in zip(y,['blue','green','red','purple']):\n",
        "    plt.hlines(y=j, xmin=xmin[j], xmax=xmax[j], colors=c)\n",
        "    plt.text(xmax[j], j-0.1, f'{x_labels[j]}, length: {round((xmax[j]-xmin[j]),2)}', color='black', ha='right', va='center')\n",
        "  plt.axvline(beta_full[i], color = 'black')\n",
        "  plt.title(f'Confidence intervals for coefficient {beta_name[i]}')\n",
        "  plt.yticks([])\n",
        "  plt.show()\n"
      ],
      "execution_count": null,
      "outputs": [
        {
          "output_type": "stream",
          "text": [
            "beta 0 is in the CI of section 1 in question 1\n",
            "the length of the CI of section 1 in question 1 is:  101.73844972314396\n",
            "\n",
            "\n",
            "beta 0 is in the CI of section 2 in question 1\n",
            "the length of the CI of section 2 in question 1 is:  107.27620335184372\n",
            "\n",
            "\n",
            "beta 0 is in the CI of section 3 in question 1\n",
            "the length of the CI of section 3 in question 1 is:  95.46330604630018\n",
            "\n",
            "\n",
            "beta 0 is in the CI of section 4 in question 1\n",
            "the length of the CI of section 4 in question 1 is:  95.46330604630018\n",
            "\n",
            "\n"
          ],
          "name": "stdout"
        },
        {
          "output_type": "display_data",
          "data": {
            "image/png": "[encoded data removed]",
            "text/plain": [
              "<Figure size 432x288 with 1 Axes>"
            ]
          },
          "metadata": {
            "tags": [],
            "needs_background": "light"
          }
        },
        {
          "output_type": "stream",
          "text": [
            "beta 1 is in the CI of section 1 in question 1\n",
            "the length of the CI of section 1 in question 1 is:  23.489359815773305\n",
            "\n",
            "\n",
            "beta 1 is in the CI of section 2 in question 1\n",
            "the length of the CI of section 2 in question 1 is:  22.390786727829127\n",
            "\n",
            "\n",
            "beta 1 is in the CI of section 3 in question 1\n",
            "the length of the CI of section 3 in question 1 is:  21.67251560225751\n",
            "\n",
            "\n",
            "beta 1 is in the CI of section 4 in question 1\n",
            "the length of the CI of section 4 in question 1 is:  21.672515602257512\n",
            "\n",
            "\n"
          ],
          "name": "stdout"
        },
        {
          "output_type": "display_data",
          "data": {
            "image/png": "[encoded data removed]",
            "text/plain": [
              "<Figure size 432x288 with 1 Axes>"
            ]
          },
          "metadata": {
            "tags": [],
            "needs_background": "light"
          }
        },
        {
          "output_type": "stream",
          "text": [
            "beta 2 is in the CI of section 1 in question 1\n",
            "the length of the CI of section 1 in question 1 is:  2.785115946528901\n",
            "\n",
            "\n",
            "beta 2 is in the CI of section 2 in question 1\n",
            "the length of the CI of section 2 in question 1 is:  3.1222102871269763\n",
            "\n",
            "\n",
            "beta 2 is in the CI of section 3 in question 1\n",
            "the length of the CI of section 3 in question 1 is:  3.3901237919983\n",
            "\n",
            "\n",
            "beta 2 is in the CI of section 4 in question 1\n",
            "the length of the CI of section 4 in question 1 is:  3.3901237919983\n",
            "\n",
            "\n"
          ],
          "name": "stdout"
        },
        {
          "output_type": "display_data",
          "data": {
            "image/png": "[encoded data removed]",
            "text/plain": [
              "<Figure size 432x288 with 1 Axes>"
            ]
          },
          "metadata": {
            "tags": [],
            "needs_background": "light"
          }
        },
        {
          "output_type": "stream",
          "text": [
            "beta 3 is in the CI of section 1 in question 1\n",
            "the length of the CI of section 1 in question 1 is:  31.92277823472891\n",
            "\n",
            "\n",
            "beta 3 is in the CI of section 2 in question 1\n",
            "the length of the CI of section 2 in question 1 is:  29.277470188328472\n",
            "\n",
            "\n",
            "beta 3 is in the CI of section 3 in question 1\n",
            "the length of the CI of section 3 in question 1 is:  32.25303115046319\n",
            "\n",
            "\n",
            "beta 3 is in the CI of section 4 in question 1\n",
            "the length of the CI of section 4 in question 1 is:  32.25303115046319\n",
            "\n",
            "\n"
          ],
          "name": "stdout"
        },
        {
          "output_type": "display_data",
          "data": {
            "image/png": "[encoded data removed]",
            "text/plain": [
              "<Figure size 432x288 with 1 Axes>"
            ]
          },
          "metadata": {
            "tags": [],
            "needs_background": "light"
          }
        },
        {
          "output_type": "stream",
          "text": [
            "beta 4 is in the CI of section 1 in question 1\n",
            "the length of the CI of section 1 in question 1 is:  0.9507247379296776\n",
            "\n",
            "\n",
            "beta 4 is in the CI of section 2 in question 1\n",
            "the length of the CI of section 2 in question 1 is:  1.0729416907254468\n",
            "\n",
            "\n",
            "beta 4 is in the CI of section 3 in question 1\n",
            "the length of the CI of section 3 in question 1 is:  1.0369888815771438\n",
            "\n",
            "\n",
            "beta 4 is in the CI of section 4 in question 1\n",
            "the length of the CI of section 4 in question 1 is:  1.0369888815771438\n",
            "\n",
            "\n"
          ],
          "name": "stdout"
        },
        {
          "output_type": "display_data",
          "data": {
            "image/png": "[encoded data removed]",
            "text/plain": [
              "<Figure size 432x288 with 1 Axes>"
            ]
          },
          "metadata": {
            "tags": [],
            "needs_background": "light"
          }
        }
      ]
    },
    {
      "cell_type": "markdown",
      "metadata": {
        "id": "jNOh7eCpVHB4"
      },
      "source": [
        "As we can see all the $\\beta_0 , \\beta_1, \\beta_2, \\beta_3, \\beta_4 $ are in the CI's.\n",
        "\n",
        "\n",
        "We can see that the first 2 CI have very similar length. That seems logic because both relay on normal approximation. \n",
        "\n",
        "The other 2 CI also have exactly similar length. That seems logic because they relay on the same precemtile (we can also get that from the formula).\n",
        "\n",
        "In general we can see that all of their length are very similar (for each beta). \n",
        "\n",
        "\n"
      ]
    },
    {
      "cell_type": "markdown",
      "metadata": {
        "id": "oFg84D1qWLOo"
      },
      "source": [
        "###Q3"
      ]
    },
    {
      "cell_type": "markdown",
      "metadata": {
        "id": "ok53JT2kWQZE"
      },
      "source": [
        "####A"
      ]
    },
    {
      "cell_type": "code",
      "metadata": {
        "id": "bBvKDPDDWPWa"
      },
      "source": [
        "test = df.drop(n_200) #all the data but the 200 samples\n",
        "test = test.dropna()\n",
        "test = test.sample(100) #choos 100 samples for the test\n",
        "test_x = test[['male', 'BMI','TenYearCHD', 'heartRate']]\n",
        "test_x= sm.add_constant(test_x)\n",
        "test_y = test['totChol']\n",
        "test_y_np = test_y.to_numpy()\n",
        "np_test_x = test_x.to_numpy()\n",
        "y_pred_200 = results.predict(np_test_x)\n",
        "for i in range(len(np_test_x)):\n",
        "  print(\"for sample\", i, \"predicted y is: \",y_pred_200[i] )"
      ],
      "execution_count": null,
      "outputs": []
    },
    {
      "cell_type": "markdown",
      "metadata": {
        "id": "wfBKBlfyWoi2"
      },
      "source": [
        "###B + C"
      ]
    },
    {
      "cell_type": "code",
      "metadata": {
        "id": "oW60pypifAiL",
        "colab": {
          "base_uri": "https://localhost:8080/",
          "height": 1000
        },
        "outputId": "ba98458b-797a-4185-f08c-08d593cbb9b8"
      },
      "source": [
        "cnt =0\n",
        "length = 0\n",
        "\n",
        "for i in range(100):\n",
        "  y_pred_new = []\n",
        "  for b in range(400):\n",
        "    n_b = np.random.choice(n_200,200)\n",
        "    df_b = df_200.loc[n_b]\n",
        "    df_b = df_b[['male', 'BMI','TenYearCHD', 'heartRate','totChol']].dropna()\n",
        "    data_b = df_b[['male', 'BMI','TenYearCHD', 'heartRate']].to_numpy()\n",
        "    data_b = sm.add_constant(data_b)\n",
        "    y_b = df_b['totChol']\n",
        "    model_b = OLS(y_b,data_b)\n",
        "    results_b = model_b.fit()\n",
        "    y_pred_new.append(results_b.predict(np_test_x[i])[0])\n",
        "\n",
        "  se_i = calc_std(np.array(y_pred_new))\n",
        "  a = y_pred_200[i] - stats.norm.ppf(0.975)*se_i\n",
        "  b = y_pred_200[i] + stats.norm.ppf(0.975)*se_i\n",
        "\n",
        "  print(\"the CI for E[Y|X] for sample precent\",i ,\"is: \", [a,b])\n",
        "  if test_y_np[i] >= a and test_y_np[i] <= b :\n",
        "    cnt +=1\n",
        "  length += b-a\n",
        "  "
      ],
      "execution_count": null,
      "outputs": [
        {
          "output_type": "stream",
          "text": [
            "the CI for E[Y|X] for sample precent 0 is:  [227.85447488251253, 247.58698743376272]\n",
            "the CI for E[Y|X] for sample precent 1 is:  [234.33070555929987, 261.11664945050336]\n",
            "the CI for E[Y|X] for sample precent 2 is:  [226.23682210671615, 247.7130849577203]\n",
            "the CI for E[Y|X] for sample precent 3 is:  [208.82860453224868, 243.28974451413706]\n",
            "the CI for E[Y|X] for sample precent 4 is:  [235.8766914252831, 253.04934527494478]\n",
            "the CI for E[Y|X] for sample precent 5 is:  [244.9637752982021, 275.6822381875569]\n",
            "the CI for E[Y|X] for sample precent 6 is:  [212.35166357132834, 236.76998565009183]\n",
            "the CI for E[Y|X] for sample precent 7 is:  [243.18143444722668, 265.90580303384223]\n",
            "the CI for E[Y|X] for sample precent 8 is:  [212.75102526387298, 231.33680703003398]\n",
            "the CI for E[Y|X] for sample precent 9 is:  [227.46668049853457, 256.02654642175656]\n",
            "the CI for E[Y|X] for sample precent 10 is:  [231.29688265679647, 248.52941905316055]\n",
            "the CI for E[Y|X] for sample precent 11 is:  [212.3512525947304, 231.57452248626214]\n",
            "the CI for E[Y|X] for sample precent 12 is:  [227.40679457809927, 250.97023918030908]\n",
            "the CI for E[Y|X] for sample precent 13 is:  [237.5060264408562, 262.1421142160036]\n",
            "the CI for E[Y|X] for sample precent 14 is:  [229.19284626451687, 252.10391258217643]\n",
            "the CI for E[Y|X] for sample precent 15 is:  [232.96967236482345, 266.79587852883446]\n",
            "the CI for E[Y|X] for sample precent 16 is:  [219.8388385749791, 236.1060971116999]\n",
            "the CI for E[Y|X] for sample precent 17 is:  [230.9843075843128, 248.66349161314278]\n",
            "the CI for E[Y|X] for sample precent 18 is:  [198.50458073541347, 226.23248657865946]\n",
            "the CI for E[Y|X] for sample precent 19 is:  [216.07319656172845, 234.90805673843133]\n",
            "the CI for E[Y|X] for sample precent 20 is:  [214.56091341436527, 237.88605313693014]\n",
            "the CI for E[Y|X] for sample precent 21 is:  [225.82336783902753, 245.98991057308064]\n",
            "the CI for E[Y|X] for sample precent 22 is:  [219.14333094602256, 256.8426811730476]\n",
            "the CI for E[Y|X] for sample precent 23 is:  [239.8849744718081, 258.8217669330877]\n",
            "the CI for E[Y|X] for sample precent 24 is:  [203.40194903566143, 230.0627505720049]\n",
            "the CI for E[Y|X] for sample precent 25 is:  [224.67121183689284, 244.18479807224094]\n",
            "the CI for E[Y|X] for sample precent 26 is:  [219.89124741364392, 241.37962744581145]\n",
            "the CI for E[Y|X] for sample precent 27 is:  [241.4482934035297, 264.08758517361804]\n",
            "the CI for E[Y|X] for sample precent 28 is:  [218.33743442041296, 235.71005429996754]\n",
            "the CI for E[Y|X] for sample precent 29 is:  [196.79011522644413, 226.63419882116085]\n",
            "the CI for E[Y|X] for sample precent 30 is:  [259.88246998378344, 316.0429231579979]\n",
            "the CI for E[Y|X] for sample precent 31 is:  [222.97515393965926, 245.53015086076886]\n",
            "the CI for E[Y|X] for sample precent 32 is:  [218.65875006130773, 234.65843304591476]\n",
            "the CI for E[Y|X] for sample precent 33 is:  [219.7440382112198, 258.03165184838014]\n",
            "the CI for E[Y|X] for sample precent 34 is:  [221.5650866431496, 240.9868487750774]\n",
            "the CI for E[Y|X] for sample precent 35 is:  [230.53410890300918, 263.4078381679269]\n",
            "the CI for E[Y|X] for sample precent 36 is:  [244.53823426295875, 274.7361985829766]\n",
            "the CI for E[Y|X] for sample precent 37 is:  [248.54972085660924, 284.2348289011126]\n",
            "the CI for E[Y|X] for sample precent 38 is:  [236.23224667046716, 253.27773504741774]\n",
            "the CI for E[Y|X] for sample precent 39 is:  [220.15628327024072, 237.19992774399336]\n",
            "the CI for E[Y|X] for sample precent 40 is:  [222.18731548074766, 241.95424804110115]\n",
            "the CI for E[Y|X] for sample precent 41 is:  [213.20997756728553, 237.29035585538514]\n",
            "the CI for E[Y|X] for sample precent 42 is:  [225.74617823773866, 243.2236011405916]\n",
            "the CI for E[Y|X] for sample precent 43 is:  [228.0953813425178, 246.71865076433258]\n",
            "the CI for E[Y|X] for sample precent 44 is:  [247.3312594758682, 273.0455816799027]\n",
            "the CI for E[Y|X] for sample precent 45 is:  [228.6943003943774, 255.52293222277447]\n",
            "the CI for E[Y|X] for sample precent 46 is:  [259.19095897827685, 300.4971441925661]\n",
            "the CI for E[Y|X] for sample precent 47 is:  [220.51758705230313, 240.66700743944065]\n",
            "the CI for E[Y|X] for sample precent 48 is:  [233.95499723808612, 261.63647232069746]\n",
            "the CI for E[Y|X] for sample precent 49 is:  [191.30223775052482, 222.811397404438]\n",
            "the CI for E[Y|X] for sample precent 50 is:  [225.54069455908015, 243.03978814081208]\n",
            "the CI for E[Y|X] for sample precent 51 is:  [225.2545271202366, 258.49598487249256]\n",
            "the CI for E[Y|X] for sample precent 52 is:  [243.98278370872288, 275.6471567978682]\n",
            "the CI for E[Y|X] for sample precent 53 is:  [237.48775493354768, 255.23362490858122]\n",
            "the CI for E[Y|X] for sample precent 54 is:  [238.94241265892398, 259.6511582225142]\n",
            "the CI for E[Y|X] for sample precent 55 is:  [221.0830991170524, 237.78141192147686]\n",
            "the CI for E[Y|X] for sample precent 56 is:  [225.90407979126846, 242.64396151875397]\n",
            "the CI for E[Y|X] for sample precent 57 is:  [221.41460451002433, 257.0052605314569]\n",
            "the CI for E[Y|X] for sample precent 58 is:  [221.4069183484021, 255.71514136185107]\n",
            "the CI for E[Y|X] for sample precent 59 is:  [226.11956168434858, 243.97462253752786]\n",
            "the CI for E[Y|X] for sample precent 60 is:  [214.58134142688405, 231.7126551146063]\n",
            "the CI for E[Y|X] for sample precent 61 is:  [231.37515524301932, 249.27832704040105]\n",
            "the CI for E[Y|X] for sample precent 62 is:  [221.31272398981739, 242.71566900857377]\n",
            "the CI for E[Y|X] for sample precent 63 is:  [236.2875052313063, 255.63958463653321]\n",
            "the CI for E[Y|X] for sample precent 64 is:  [229.87720262927928, 249.3487087634337]\n",
            "the CI for E[Y|X] for sample precent 65 is:  [216.65352060589166, 250.68464284139603]\n",
            "the CI for E[Y|X] for sample precent 66 is:  [232.73512431297996, 252.50933871454328]\n",
            "the CI for E[Y|X] for sample precent 67 is:  [230.21031339896723, 261.80174531580053]\n",
            "the CI for E[Y|X] for sample precent 68 is:  [214.91671639672006, 235.56162049223997]\n",
            "the CI for E[Y|X] for sample precent 69 is:  [241.25010714663364, 266.4594942882277]\n",
            "the CI for E[Y|X] for sample precent 70 is:  [235.71239201228923, 253.927355265075]\n",
            "the CI for E[Y|X] for sample precent 71 is:  [217.95636466730542, 253.50444790600972]\n",
            "the CI for E[Y|X] for sample precent 72 is:  [253.3519013242705, 306.9601410248304]\n",
            "the CI for E[Y|X] for sample precent 73 is:  [222.4073537831794, 252.243872428583]\n",
            "the CI for E[Y|X] for sample precent 74 is:  [217.878734860282, 242.73850964982654]\n",
            "the CI for E[Y|X] for sample precent 75 is:  [223.71840649437763, 243.09379585295665]\n",
            "the CI for E[Y|X] for sample precent 76 is:  [221.5389943054266, 241.96973750930843]\n",
            "the CI for E[Y|X] for sample precent 77 is:  [239.47152583461573, 261.360500947841]\n",
            "the CI for E[Y|X] for sample precent 78 is:  [232.1396180326462, 249.03292648869152]\n",
            "the CI for E[Y|X] for sample precent 79 is:  [236.4173755642284, 255.89826229987557]\n",
            "the CI for E[Y|X] for sample precent 80 is:  [223.10803829347705, 243.91585663840206]\n",
            "the CI for E[Y|X] for sample precent 81 is:  [261.05150106036467, 298.78221402380575]\n",
            "the CI for E[Y|X] for sample precent 82 is:  [228.3077604625956, 248.36647466873328]\n",
            "the CI for E[Y|X] for sample precent 83 is:  [225.59597547463318, 245.33613364973525]\n",
            "the CI for E[Y|X] for sample precent 84 is:  [239.64994489455827, 274.2641058521236]\n",
            "the CI for E[Y|X] for sample precent 85 is:  [233.73386622661036, 250.61793450197104]\n",
            "the CI for E[Y|X] for sample precent 86 is:  [224.27767868735265, 243.43228798374315]\n",
            "the CI for E[Y|X] for sample precent 87 is:  [213.5206020638707, 233.17928619207933]\n",
            "the CI for E[Y|X] for sample precent 88 is:  [227.23626926792502, 254.6348881588745]\n",
            "the CI for E[Y|X] for sample precent 89 is:  [214.36060186012355, 232.56637612491534]\n",
            "the CI for E[Y|X] for sample precent 90 is:  [239.38841964909676, 258.99390785710074]\n",
            "the CI for E[Y|X] for sample precent 91 is:  [233.19382348435238, 249.2763766317787]\n",
            "the CI for E[Y|X] for sample precent 92 is:  [230.80976311734292, 248.57850496115395]\n",
            "the CI for E[Y|X] for sample precent 93 is:  [223.28768234025492, 241.93549084919638]\n",
            "the CI for E[Y|X] for sample precent 94 is:  [211.3440307084355, 234.3504739344191]\n",
            "the CI for E[Y|X] for sample precent 95 is:  [231.066361471157, 247.91676357505372]\n",
            "the CI for E[Y|X] for sample precent 96 is:  [226.2878588544244, 247.94222823476903]\n",
            "the CI for E[Y|X] for sample precent 97 is:  [239.3459643776649, 257.6413833641297]\n",
            "the CI for E[Y|X] for sample precent 98 is:  [232.42299671067775, 254.0705346950515]\n",
            "the CI for E[Y|X] for sample precent 99 is:  [245.38864649250425, 276.15533601640703]\n"
          ],
          "name": "stdout"
        }
      ]
    },
    {
      "cell_type": "code",
      "metadata": {
        "id": "YMca8bjkdlXm",
        "colab": {
          "base_uri": "https://localhost:8080/",
          "height": 51
        },
        "outputId": "856eb14e-b30b-4455-c20d-a51311cee85f"
      },
      "source": [
        "precent = cnt\n",
        "length = length/100\n",
        "\n",
        "print(\"the precent of CI that contains the real value is: \", precent,'%' )\n",
        "print('the avarge length of the CI is: ', length)"
      ],
      "execution_count": null,
      "outputs": [
        {
          "output_type": "stream",
          "text": [
            "the precent of CI that contains the real value is:  27 %\n",
            "the avarge length of the CI is:  24.098707682937352\n"
          ],
          "name": "stdout"
        }
      ]
    },
    {
      "cell_type": "code",
      "metadata": {
        "id": "6L5CG8Yeb9Xl",
        "colab": {
          "base_uri": "https://localhost:8080/",
          "height": 313
        },
        "outputId": "e04176fe-4376-4bb2-9f95-173fe8bd236f"
      },
      "source": [
        "e = [y_true- y_pred  for y_true, y_pred in zip(test_y_np, y_pred_200)]\n",
        "e_abs = np.absolute(np.array(e))\n",
        "\n",
        "avg_e = np.mean(e_abs)\n",
        "\n",
        "plt.plot(y_pred_200, e, 'o', color='green')\n",
        "plt.xlabel(\"Y_pred\")\n",
        "plt.ylabel(\"e=y_true- y_pred\")\n",
        "plt.plot(y_pred_200, np.zeros_like(e), color = 'black')\n",
        "plt.title('residual graph')\n",
        "\n",
        "print('the avrage of residuals: ', avg_e )\n",
        "\n"
      ],
      "execution_count": null,
      "outputs": [
        {
          "output_type": "stream",
          "text": [
            "the avrage of residuals:  33.144015028436\n"
          ],
          "name": "stdout"
        },
        {
          "output_type": "display_data",
          "data": {
            "image/png": "[encoded data removed]",
            "text/plain": [
              "<Figure size 432x288 with 1 Axes>"
            ]
          },
          "metadata": {
            "tags": [],
            "needs_background": "light"
          }
        }
      ]
    },
    {
      "cell_type": "markdown",
      "metadata": {
        "id": "Q8rW6eM2d4cw"
      },
      "source": [
        "As we can see in the graph the avarge difference between the real value and the predicted value is around 31 and the avarge size of the CI is around 25. \n",
        "we built the CI according to normal approximation when calculating the se with bootstrap - with this method our predicted y according to the 200 samples is in the middle of the CI, and that's why most of the real value are not in the CI and that can explain why we got low precent."
      ]
    },
    {
      "cell_type": "markdown",
      "metadata": {
        "id": "yKr_eMScXYjo"
      },
      "source": [
        "###D\n",
        "\n",
        "In order to calculate CI for $Y_{new}$ we can estimate the S.E by bootstrap algorithem. \n",
        "\n",
        "The only difference from CI of $E[Y_{new}|X_{new}]$ is that we need to add the variance of the noise. \n",
        "\n",
        " In each iteration 1..B:\n",
        "\n",
        " (1) sample 200 samples from our 200-table. we marke $X^b$ as the matrix of the data in the b iteration. \n",
        " \n",
        " (2) predict $Y_{NEW}^b $ acoording to $X^b$ (calculate the beta's $X^b$ samples)\n",
        " \n",
        "\n",
        "calculate the S.E boost : $\\hat{S.E_{boost}} = \\sqrt{\\hat{var}(Y_{new}|X_{new})+\\hat{\\sigma}_{\\epsilon}^2}$ \n",
        "\n",
        "where $\\hat{\\sigma}_{\\epsilon}^2$ is the estimator for the variance of the noise which is calculated by $\\frac{SS_R}{n-p}$ on the original samples and $\\hat{var}(Y_{new}|X_{new})$ is based on bootstrap.\n",
        " \n",
        "\n",
        " the CI is: $ \\hat{Y_{new}} \\pm Z_{\\alpha/2}*S.E_{boost} $  \n"
      ]
    },
    {
      "cell_type": "markdown",
      "metadata": {
        "id": "rEGSm6DrDPsn"
      },
      "source": [
        "##Part 2"
      ]
    },
    {
      "cell_type": "markdown",
      "metadata": {
        "id": "GlMW_3_4DZD_"
      },
      "source": [
        "The research question from part 2 :\n",
        "\n",
        "Does avarge heart rate changes between smokers and not smokers?\n",
        "\n"
      ]
    },
    {
      "cell_type": "markdown",
      "metadata": {
        "id": "hdfBNLBeEPmC"
      },
      "source": [
        "###Q1\n",
        "The research question:\n",
        "\n",
        "Dose the distribution of the avarge heart rate in smoker($X_1$) is larger(Stochastic dominance) then the  distribution of the avarge heart rate in non smoker($X_2$)\n",
        "\n",
        "\n",
        "in terms of stochastic dominate: \n",
        "\n",
        "we will want to cheack if: $X_2  \\prec X_1$"
      ]
    },
    {
      "cell_type": "markdown",
      "metadata": {
        "id": "phqIFMLOFhlN"
      },
      "source": [
        "###Q2"
      ]
    },
    {
      "cell_type": "code",
      "metadata": {
        "id": "GM8EPMi3XYUW"
      },
      "source": [
        "import pandas as pd\n",
        "import numpy as np\n",
        "import random\n",
        "from scipy import stats\n",
        "import math\n",
        "import matplotlib.pyplot as plt\n",
        "import scipy\n",
        "\n",
        "df = pd.read_csv(\"/content/framingham_heart_disease.csv\")\n",
        "\n",
        "#choose 200 samples randomly.\n",
        "random.seed(1)\n",
        "n_200 = random.sample(range(0,len(df)),200)\n",
        "df_200= df.loc[n_200]"
      ],
      "execution_count": null,
      "outputs": []
    },
    {
      "cell_type": "markdown",
      "metadata": {
        "id": "Ni5typ1oGK1n"
      },
      "source": [
        "###Q3\n",
        "\n"
      ]
    },
    {
      "cell_type": "markdown",
      "metadata": {
        "id": "fwmOFOSgGS5N"
      },
      "source": [
        "####A"
      ]
    },
    {
      "cell_type": "markdown",
      "metadata": {
        "id": "iaA_FukfHmfY"
      },
      "source": [
        "notice - $\\mu_1$ is for the non - smokers and $\\mu_2$ is for smokers "
      ]
    },
    {
      "cell_type": "code",
      "metadata": {
        "id": "Yq2eSWoBGJqQ",
        "colab": {
          "base_uri": "https://localhost:8080/",
          "height": 68
        },
        "outputId": "518f97aa-b7e3-4656-f25a-978a31fc2837"
      },
      "source": [
        "df_new = df_200[[\"heartRate\",\"currentSmoker\"]]\n",
        "\n",
        "#creat table for non smokers (0) and smokers (1)\n",
        "df_new_0 = df_new.loc[df_new['currentSmoker']==0].dropna()\n",
        "df_new_1 = df_new.loc[df_new['currentSmoker']==1].dropna()\n",
        "\n",
        "#calculate the mean for each category\n",
        "mean_0 =df_new_0[\"heartRate\"].mean()\n",
        "mean_1 =df_new_1[\"heartRate\"].mean()\n",
        "\n",
        "print(\"mean heart rate mean for non smokers (mu_1): \" + str(mean_0))\n",
        "print(\"mean heart rate mean for smokers (mu_2): \" + str(mean_1))\n",
        "print(\"delta hat is: \", str(mean_0-mean_1))\n"
      ],
      "execution_count": null,
      "outputs": [
        {
          "output_type": "stream",
          "text": [
            "mean heart rate mean for non smokers (mu_1): 74.45360824742268\n",
            "mean heart rate mean for smokers (mu_2): 75.99029126213593\n",
            "delta hat is:  -1.5366830147132475\n"
          ],
          "name": "stdout"
        }
      ]
    },
    {
      "cell_type": "code",
      "metadata": {
        "id": "R19gQGOzcYPs",
        "colab": {
          "base_uri": "https://localhost:8080/",
          "height": 475
        },
        "outputId": "d253f42e-25e0-45db-f252-3a326a763717"
      },
      "source": [
        "fig, axes = plt.subplots(1, 2, figsize = (12,7))\n",
        "\n",
        "df_new_0.hist('heartRate', ax=axes[0] ,color = 'mediumseagreen' )\n",
        "\n",
        "df_new_1.hist('heartRate', ax=axes[1], color = 'tomato')\n",
        "axes[0].set_title('non-smokers heartRate histogram')\n",
        "axes[0].set_xlabel('heart Rate')\n",
        "axes[0].set_xlim(50,120)\n",
        "axes[0].set_ylim(0,30)\n",
        "\n",
        "axes[1].set_title('smokers heartRate histogram')\n",
        "axes[1].set_xlabel('heart Rate')"
      ],
      "execution_count": null,
      "outputs": [
        {
          "output_type": "execute_result",
          "data": {
            "text/plain": [
              "Text(0.5, 0, 'heart Rate')"
            ]
          },
          "metadata": {
            "tags": []
          },
          "execution_count": 15
        },
        {
          "output_type": "display_data",
          "data": {
            "image/png": "[encoded data removed]",
            "text/plain": [
              "<Figure size 864x504 with 2 Axes>"
            ]
          },
          "metadata": {
            "tags": [],
            "needs_background": "light"
          }
        }
      ]
    },
    {
      "cell_type": "markdown",
      "metadata": {
        "id": "YRva7mRWIgTE"
      },
      "source": [
        "As we can see the heartRate of smokers and non-smokers is from normal distribution, so we assume normal dustribution model.\n",
        "\n",
        "We will show that $\\hat{\\delta}$ is MLE:\n",
        "\n",
        "$\\bar{X_n^0} \\approx N(\\mu_1 , \\frac{\\sigma_1^2}{n})  $ \n",
        "\n",
        "$\\bar{X_n^1} \\approx N(\\mu_2 , \\frac{\\sigma_2^2}{m})  $ \n",
        "\n",
        "we will define $\\hat{\\delta} = \\bar{X_n^0}- \\bar{X_n^1} \\approx N(\\delta = \\mu_1-\\mu_2, \\frac{\\sigma_1^2}{n}+\\frac{\\sigma_2^2}{m}) $\n",
        "\n",
        "$ F(\\delta)=L_n(\\hat{\\delta}) $\n",
        "\n",
        "$ f(\\delta) = log(F(\\delta)) $\n",
        "\n",
        "we will find $ \\hat{\\delta}^{MLE} $ By deriving the function $f(\\delta) $ and Comparison to 0. \n",
        "\n",
        "And we will find out that $\\hat{\\delta} =\\hat{\\delta}^{MLE} $\n",
        "\n",
        "in addition, MLE for $\\mu$ is $\\hat{\\mu_1} - \\hat{\\mu_2} = \\hat{\\delta}$ from the equviariance property of MLE as $\\hat{\\mu_1}$ MLE for $\\mu_1$ and $\\hat{\\mu_2}$ MLE for $\\mu_2$ and they are seperable.\n"
      ]
    },
    {
      "cell_type": "markdown",
      "metadata": {
        "id": "tHC0XWe2KIUY"
      },
      "source": [
        "####B \n",
        "\n",
        "Because $\\hat{\\delta}$ is MLE, and $\\mu_1, \\mu_2$ are MLE : \n",
        "$\\hat{\\delta} \\approx N(\\bar{X_1} - \\bar{X_2},\\hat{{\\sigma_1^2}/n} +\\hat{\\sigma_2^2}/m ) $\n",
        "\n",
        "we will calculate the CI according to this"
      ]
    },
    {
      "cell_type": "code",
      "metadata": {
        "id": "hP_2zkQVKHg2",
        "colab": {
          "base_uri": "https://localhost:8080/",
          "height": 34
        },
        "outputId": "85d3a6e5-18a3-46dc-de66-40157cf29235"
      },
      "source": [
        "var_0 = df_new_0[\"heartRate\"].var() / len(df_new_0)\n",
        "var_1 = df_new_1[\"heartRate\"].var() / len(df_new_1)\n",
        "\n",
        "std = np.sqrt(var_1 + var_0)\n",
        "mean = mean_0 - mean_1\n",
        "\n",
        "alpha = 0.05\n",
        "quantile = stats.norm.ppf(1 - (alpha/2))\n",
        "\n",
        "#calculate the confidence interval \n",
        "CI_delta = [mean - quantile*std , mean + quantile*std ]\n",
        "\n",
        "print(\"the CI for delta is: \", CI_delta)\n"
      ],
      "execution_count": null,
      "outputs": [
        {
          "output_type": "stream",
          "text": [
            "the CI for delta is:  [-4.877283019658409, 1.8039169902319143]\n"
          ],
          "name": "stdout"
        }
      ]
    },
    {
      "cell_type": "markdown",
      "metadata": {
        "id": "687yTfhVNs7o"
      },
      "source": [
        "####C"
      ]
    },
    {
      "cell_type": "code",
      "metadata": {
        "id": "qF1UlRsGNslA",
        "colab": {
          "base_uri": "https://localhost:8080/",
          "height": 34
        },
        "outputId": "2fdf9964-fb93-436e-f5b3-cee361afa423"
      },
      "source": [
        "# we will calculte the mean for smokers and non smokers in \n",
        "df_full = df[[\"heartRate\",\"currentSmoker\"]]\n",
        "\n",
        "#creat table for non smokers (0) and smokers (1)\n",
        "df_full_0 = df_full.loc[df_full['currentSmoker']==0].dropna()\n",
        "df_full_1 = df_full.loc[df_full['currentSmoker']==1].dropna()\n",
        "\n",
        "#calculate the mean for each category\n",
        "mean_0_full =df_full_0[\"heartRate\"].mean()\n",
        "mean_1_full =df_full_1[\"heartRate\"].mean()\n",
        "\n",
        "print(\"delta is: \", str(mean_0_full-mean_1_full))\n"
      ],
      "execution_count": null,
      "outputs": [
        {
          "output_type": "stream",
          "text": [
            "delta is:  -1.499780718956572\n"
          ],
          "name": "stdout"
        }
      ]
    },
    {
      "cell_type": "markdown",
      "metadata": {
        "id": "P1h_4iJXPaB8"
      },
      "source": [
        "as we can see the delta value is the CI we calculate before. "
      ]
    },
    {
      "cell_type": "markdown",
      "metadata": {
        "id": "uPQLXhRSPpTm"
      },
      "source": [
        "####D"
      ]
    },
    {
      "cell_type": "markdown",
      "metadata": {
        "id": "8wtF77iNQTuZ"
      },
      "source": [
        "Vald Test:\n",
        "\n",
        "$H_0 : \\mu_1 - \\mu_2 \\le 0 $\n",
        "\n",
        "$ H_1: \\mu_1 - \\mu_2 > 0 $\n",
        "\n",
        "$\n",
        "T = \\frac{\\bar{X}1 - \\bar{X}_2}{\\sqrt{\\frac{S{X_1}^2}\n",
        "{n_1}+\\frac{S_{X_2}^2}{n_2}}}\n",
        "$\n",
        "\n",
        "Reject if $ T > z_{1-\\alpha }$"
      ]
    },
    {
      "cell_type": "code",
      "metadata": {
        "id": "Um95s-tAPYXK",
        "colab": {
          "base_uri": "https://localhost:8080/",
          "height": 51
        },
        "outputId": "9ccf5923-cfc5-402b-8efb-4ccae900de3c"
      },
      "source": [
        "#calculate vald test\n",
        "alpha = 0.05\n",
        "quantile = stats.norm.ppf((1-alpha)) \n",
        "\n",
        "sp = np.sqrt(var_0 + var_1)\n",
        "T_vald = mean/ sp\n",
        "\n",
        "if T_vald > quantile:\n",
        "  print(\"reject H_0\")\n",
        "else:\n",
        "  print (\"don't reject H_0\")\n",
        "\n",
        "print(\"Ts: \" + str(T_vald))"
      ],
      "execution_count": null,
      "outputs": [
        {
          "output_type": "stream",
          "text": [
            "don't reject H_0\n",
            "Ts: -0.9015875471573678\n"
          ],
          "name": "stdout"
        }
      ]
    },
    {
      "cell_type": "code",
      "metadata": {
        "id": "ScT-FrAkTqrj"
      },
      "source": [
        "#creat dict: {heartRate : #it apears in the 200 smaples}\n",
        "df = df_200['heartRate'].nunique()\n",
        "heartRate = sorted(list(df_200['heartRate']))\n",
        "heartRate_dict = dict()\n",
        "\n",
        "for item in heartRate:\n",
        "  if item in heartRate_dict.keys():\n",
        "    heartRate_dict[item] +=1\n",
        "  else:\n",
        "    heartRate_dict[item] =1\n"
      ],
      "execution_count": null,
      "outputs": []
    },
    {
      "cell_type": "markdown",
      "metadata": {
        "id": "TAxaGLyXlG6Q"
      },
      "source": [
        "$H_0 : F_{X_1} = F_{X_2} $\n",
        "\n",
        "$H_1 : F_{X_2} \\prec F_{X_1}$\n",
        "\n",
        "$T^{obs} = \\bar{X_1}-\\bar{X_2}$"
      ]
    },
    {
      "cell_type": "code",
      "metadata": {
        "id": "tcGovphpRiOm",
        "colab": {
          "base_uri": "https://localhost:8080/",
          "height": 51
        },
        "outputId": "5bc12724-64ff-41b4-adf5-d98db0546514"
      },
      "source": [
        "#permutation test\n",
        "delta = mean_0 - mean_1 \n",
        "cnt = 0\n",
        "\n",
        "permute_df =  df_200[[\"heartRate\",\"currentSmoker\"]].dropna()\n",
        "permute_df = permute_df.copy()\n",
        "\n",
        "for b in range(400):\n",
        "  permute_smokers = list(permute_df['currentSmoker'])\n",
        "  np.random.shuffle(permute_smokers)\n",
        "  permute_df['currentSmoker'] = permute_smokers\n",
        "  df_b_0 = permute_df.loc[permute_df['currentSmoker']==0]\n",
        "  df_b_1 = permute_df.loc[permute_df['currentSmoker']==1]\n",
        "\n",
        "  # calculate the mean for each category\n",
        "  mean_0_b =df_b_0[\"heartRate\"].mean()\n",
        "  mean_1_b =df_b_1[\"heartRate\"].mean()\n",
        "  delta_b = mean_0_b- mean_1_b \n",
        "  if delta_b >= delta:\n",
        "    cnt +=1\n",
        "\n",
        "pvalue = cnt/400\n",
        "\n",
        "if pvalue > 0.05:\n",
        "  print(\"don't reject H_0\")    \n",
        "else:\n",
        "  print(\"reject H_0\")\n",
        "\n",
        "print('the pvalue is:', pvalue )"
      ],
      "execution_count": null,
      "outputs": [
        {
          "output_type": "stream",
          "text": [
            "don't reject H_0\n",
            "the pvalue is: 0.82\n"
          ],
          "name": "stdout"
        }
      ]
    },
    {
      "cell_type": "markdown",
      "metadata": {
        "id": "k8XXNIJVYJxb"
      },
      "source": [
        "###Q4"
      ]
    },
    {
      "cell_type": "markdown",
      "metadata": {
        "id": "LUaB33X3YNU4"
      },
      "source": [
        "####A"
      ]
    },
    {
      "cell_type": "code",
      "metadata": {
        "id": "UJriNEa6YM_Q",
        "colab": {
          "base_uri": "https://localhost:8080/",
          "height": 68
        },
        "outputId": "42f12a08-1174-4db5-d4eb-de902f24f61c"
      },
      "source": [
        "median_0 =df_new_0[\"heartRate\"].median()\n",
        "median_1 =df_new_1[\"heartRate\"].median()\n",
        "\n",
        "print(\"mean heart rate mean for non smokers: \" + str(median_0))\n",
        "print(\"mean heart rate mean for smokers: \" + str(median_1))\n",
        "print(\"delta hat is: \", str(median_0- median_1))\n"
      ],
      "execution_count": null,
      "outputs": [
        {
          "output_type": "stream",
          "text": [
            "mean heart rate mean for non smokers: 75.0\n",
            "mean heart rate mean for smokers: 73.0\n",
            "delta hat is:  2.0\n"
          ],
          "name": "stdout"
        }
      ]
    },
    {
      "cell_type": "markdown",
      "metadata": {
        "id": "PbSsF-VLj-KI"
      },
      "source": [
        "As we saw in Q3 section A - the assumption of Normal distribution holds. In symnetrical distribution, the median is equal to the mean. therfore as we know the MLE for the median is suppose to be equal the the MLE of the mean and as we know the MLE is the average. **Therefore the median is not MLE**."
      ]
    },
    {
      "cell_type": "markdown",
      "metadata": {
        "id": "3PvtaG4Tlgy9"
      },
      "source": [
        "####B"
      ]
    },
    {
      "cell_type": "code",
      "metadata": {
        "id": "CJBPtstVrk0W",
        "colab": {
          "base_uri": "https://localhost:8080/",
          "height": 34
        },
        "outputId": "0a094d44-d065-45f5-9273-b528f4e1a583"
      },
      "source": [
        "#bootstrap pivot CI\n",
        "delta_arr = [] \n",
        "for b in range(400):\n",
        "  n_b = np.random.choice(n_200,200)\n",
        "  df_b = df_200.loc[n_b]\n",
        "  df_b = df_b[[\"heartRate\",\"currentSmoker\"]]\n",
        "  df_b_0 = df_b.loc[df_b['currentSmoker']==0].dropna()\n",
        "  df_b_1 = df_b.loc[df_b['currentSmoker']==1].dropna()\n",
        "\n",
        "  #calculate the mean for each category\n",
        "  median_0_b =df_b_0[\"heartRate\"].median()\n",
        "  median_1_b =df_b_1[\"heartRate\"].median()\n",
        "  delta_arr.append( median_0_b- median_1_b)\n",
        "\n",
        "delta_arr.sort()\n",
        "a = delta_arr[10]\n",
        "b = delta_arr[389]\n",
        "\n",
        "print(\"CI for delta: \", [a,b])"
      ],
      "execution_count": null,
      "outputs": [
        {
          "output_type": "stream",
          "text": [
            "CI for delta:  [-3.0, 5.0]\n"
          ],
          "name": "stdout"
        }
      ]
    },
    {
      "cell_type": "markdown",
      "metadata": {
        "id": "cHGIyHktljAN"
      },
      "source": [
        "####C"
      ]
    },
    {
      "cell_type": "code",
      "metadata": {
        "id": "yu4nZ9BwRiM-",
        "colab": {
          "base_uri": "https://localhost:8080/",
          "height": 34
        },
        "outputId": "581f136a-5cbe-4efa-fdcc-ca5ced7fd309"
      },
      "source": [
        "median_0_full =df_full_0[\"heartRate\"].median()\n",
        "median_1_full =df_full_1[\"heartRate\"].median()\n",
        "\n",
        "print(\"delta is: \", str(median_1_full- median_0_full))"
      ],
      "execution_count": null,
      "outputs": [
        {
          "output_type": "stream",
          "text": [
            "delta is:  0.0\n"
          ],
          "name": "stdout"
        }
      ]
    },
    {
      "cell_type": "markdown",
      "metadata": {
        "id": "YEezrEFkswqJ"
      },
      "source": [
        "as we can see the delta value is in the CI we calculate before."
      ]
    },
    {
      "cell_type": "markdown",
      "metadata": {
        "id": "8J8xdLXLmBeQ"
      },
      "source": [
        "####D"
      ]
    },
    {
      "cell_type": "markdown",
      "metadata": {
        "id": "krOTi-3DwDNq"
      },
      "source": [
        "$H_0 : F_{X_1} = F_{X_2} $\n",
        "\n",
        "$H_1 : F_{X_2} \\prec F_{X_1}$\n",
        "\n",
        "$T^{obs} = median_{X_1}-median_{X_2}$"
      ]
    },
    {
      "cell_type": "code",
      "metadata": {
        "id": "her-cdMKqztL",
        "colab": {
          "base_uri": "https://localhost:8080/",
          "height": 51
        },
        "outputId": "699767a0-0bff-47df-982c-0d972ff01908"
      },
      "source": [
        "#permutation test\n",
        "\n",
        "delta_median = median_0 - median_1\n",
        "cnt = 0\n",
        "permute_df =  df_200[[\"heartRate\",\"currentSmoker\"]].dropna()\n",
        "permute_df = permute_df.copy()\n",
        "\n",
        "for b in range(400):\n",
        "  permute_smokers = list(permute_df['currentSmoker'])\n",
        "  np.random.shuffle(permute_smokers)\n",
        "  permute_df['currentSmoker'] = permute_smokers\n",
        "  df_b_0 = permute_df.loc[permute_df['currentSmoker']==0]\n",
        "  df_b_1 = permute_df.loc[permute_df['currentSmoker']==1]\n",
        "\n",
        "  # calculate the mean for each category\n",
        "  median_0_b =df_b_0[\"heartRate\"].median()\n",
        "  median_1_b =df_b_1[\"heartRate\"].median()\n",
        "  delta_b_median = median_0_b- median_1_b\n",
        "  if delta_b_median >= delta_median:\n",
        "    cnt +=1\n",
        "\n",
        "pvalue_med = cnt/400\n",
        "\n",
        "if pvalue_med > 0.05:\n",
        "  print(\"don't reject H_0\")    \n",
        "else:\n",
        "  print(\"reject H_0\")\n",
        "\n",
        "print('the pvalue is:', pvalue_med )"
      ],
      "execution_count": null,
      "outputs": [
        {
          "output_type": "stream",
          "text": [
            "don't reject H_0\n",
            "the pvalue is: 0.185\n"
          ],
          "name": "stdout"
        }
      ]
    },
    {
      "cell_type": "markdown",
      "metadata": {
        "id": "vG1O08lRtOKh"
      },
      "source": [
        "####E\n",
        "\n",
        "As we learned in class the **T test** is for difference between means and not for difference between medians. therfore we cannot do T test for this case.\n",
        "\n",
        "As we learned in class **Wald test** is based on statistic that is asymptotically normal distributed.  It can be shown that the median in asymptotically normal distributed so we can use Wald test."
      ]
    },
    {
      "cell_type": "markdown",
      "metadata": {
        "id": "YqMi82HGz5Ef"
      },
      "source": [
        "###Q5"
      ]
    },
    {
      "cell_type": "markdown",
      "metadata": {
        "id": "Tl8AISaDxoeA"
      },
      "source": [
        "$H_0 : F_{X_1} = F_{X_2} $\n",
        "\n",
        "$H_1 : F_{X_2} \\prec F_{X_1}$\n",
        "\n",
        "$W_S^{obs} = \\sum_{i=i}^n S_i$"
      ]
    },
    {
      "cell_type": "code",
      "metadata": {
        "id": "sLYIfdoH1YbC",
        "colab": {
          "base_uri": "https://localhost:8080/",
          "height": 54
        },
        "outputId": "83d4c4ff-24ea-44ec-9dd7-5c76888c4f7c"
      },
      "source": [
        "print(\"dict for all the values we have and how much we have of each:\", heartRate_dict)"
      ],
      "execution_count": null,
      "outputs": [
        {
          "output_type": "stream",
          "text": [
            "dict for all the values we have and how much we have of each: {50.0: 2, 53.0: 1, 54.0: 2, 55.0: 3, 56.0: 2, 60.0: 10, 62.0: 8, 63.0: 3, 64.0: 3, 65.0: 13, 66.0: 4, 67.0: 3, 68.0: 7, 69.0: 2, 70.0: 18, 72.0: 10, 73.0: 3, 74.0: 3, 75.0: 23, 76.0: 2, 77.0: 1, 78.0: 4, 79.0: 1, 80.0: 20, 82.0: 2, 84.0: 1, 85.0: 16, 86.0: 3, 87.0: 1, 88.0: 4, 90.0: 4, 92.0: 3, 94.0: 1, 95.0: 4, 96.0: 3, 98.0: 3, 100.0: 3, 107.0: 1, 110.0: 2, 120.0: 1}\n"
          ],
          "name": "stdout"
        }
      ]
    },
    {
      "cell_type": "markdown",
      "metadata": {
        "id": "BdrDvsfM0FAC"
      },
      "source": [
        "as we can see we have a lot of ties values so we need to consider them, and because we have ties we can not use the normal approximation - because now the permutation does not come from uniform ditribution and the symmetry does not hold anymore.\n",
        "therefore, we will use sampling instead.\n",
        "\n"
      ]
    },
    {
      "cell_type": "code",
      "metadata": {
        "id": "LRYy7d95ac5D"
      },
      "source": [
        "def calc_degree(df):\n",
        "  ST_b = 0\n",
        "  heartRate_dict = dict()\n",
        "  heartRate_degree = dict()\n",
        "\n",
        "# dict that says:{ heartRate : #times it appears}\n",
        "  for index, row in df.iterrows():\n",
        "    if row['heartRate'] in heartRate_dict.keys():\n",
        "      heartRate_dict[row['heartRate']] +=1\n",
        "    else:\n",
        "      heartRate_dict[row['heartRate']] =1\n",
        "  heartRate_list = list(df['heartRate'])  \n",
        "\n",
        "# dict that says:{ heartRate : its degree}\n",
        "\n",
        "  for idx, item in enumerate(heartRate_list):\n",
        "    if heartRate_dict[item] == 1:\n",
        "      heartRate_degree[item] = idx+1\n",
        "    else:\n",
        "      if item not in heartRate_degree.keys():\n",
        "        idx_end = idx + heartRate_dict[item]\n",
        "        heartRate_degree[item] = (idx + 1 +idx_end)/2\n",
        "        \n",
        "# TS for the current data (the degree of all the smokers)\n",
        "  for index, row in df.iterrows():\n",
        "    if row['currentSmoker'] ==0 :\n",
        "      ST_b += heartRate_degree[row['heartRate']]\n",
        "  return ST_b\n",
        "\n",
        "  "
      ],
      "execution_count": null,
      "outputs": []
    },
    {
      "cell_type": "code",
      "metadata": {
        "id": "c5-tlg8x31RJ",
        "colab": {
          "base_uri": "https://localhost:8080/",
          "height": 51
        },
        "outputId": "7c7b9948-dbb6-4838-c8f6-4de6d265d7a0"
      },
      "source": [
        "TS = calc_degree(df_200.sort_values('heartRate')) \n",
        "TS_B = [] \n",
        "\n",
        "cnt = 0\n",
        "permute_df =  df_200[[\"heartRate\",\"currentSmoker\"]].dropna()\n",
        "permute_df = permute_df.copy()\n",
        "\n",
        "\n",
        "for b in range(400):\n",
        "  permute_smokers = list(permute_df['currentSmoker'])\n",
        "  np.random.shuffle(permute_smokers)\n",
        "  permute_df['currentSmoker'] = permute_smokers\n",
        "  permute_df = permute_df[[\"heartRate\",\"currentSmoker\"]].sort_values('heartRate')\n",
        "  TS_B.append(calc_degree(permute_df))\n",
        "\n",
        "cnt = 0\n",
        "for ts in TS_B:\n",
        "  if ts >= TS:\n",
        "    cnt+=1\n",
        "\n",
        "pvalue_permute = cnt/400\n",
        "\n",
        "if pvalue_permute > 0.05:\n",
        "  print(\"don't reject H_0\")    \n",
        "else:\n",
        "  print(\"reject H_0\")\n",
        "\n",
        "print('the pvalue is:', pvalue_permute )"
      ],
      "execution_count": null,
      "outputs": [
        {
          "output_type": "stream",
          "text": [
            "don't reject H_0\n",
            "the pvalue is: 0.5775\n"
          ],
          "name": "stdout"
        }
      ]
    }
  ]
}