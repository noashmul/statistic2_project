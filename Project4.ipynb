{
  "nbformat": 4,
  "nbformat_minor": 0,
  "metadata": {
    "colab": {
      "name": "Project4.ipynb",
      "provenance": [],
      "collapsed_sections": [],
      "toc_visible": true
    },
    "kernelspec": {
      "name": "python3",
      "display_name": "Python 3"
    }
  },
  "cells": [
    {
      "cell_type": "markdown",
      "metadata": {
        "id": "UUAC8sEb56TD",
        "colab_type": "text"
      },
      "source": [
        "#Project 4\n"
      ]
    },
    {
      "cell_type": "markdown",
      "metadata": {
        "id": "EX1xnLLCuWr0",
        "colab_type": "text"
      },
    },
    {
      "cell_type": "markdown",
      "metadata": {
        "id": "flWgVUXg8jBE",
        "colab_type": "text"
      },
      "source": [
        "##Part 1"
      ]
    },
    {
      "cell_type": "markdown",
      "metadata": {
        "id": "oXgpWMgK8nyz",
        "colab_type": "text"
      },
      "source": [
        "###Q1"
      ]
    },
    {
      "cell_type": "markdown",
      "metadata": {
        "id": "Rx_gKc2O-YOx",
        "colab_type": "text"
      },
      "source": [
        "The research question from part 3:\n",
        "Is gender, BMI, heart disease and heart rate effect on cholesterol level?"
      ]
    },
    {
      "cell_type": "code",
      "metadata": {
        "id": "Q0U8XqHQ5QOj",
        "colab_type": "code",
        "colab": {}
      },
      "source": [
        "import pandas as pd\n",
        "import numpy as np\n",
        "import random\n",
        "from scipy import stats\n",
        "import math\n",
        "import matplotlib.pyplot as plt\n",
        "import scipy\n",
        "\n",
        "df = pd.read_csv(\"/content/framingham_heart_disease.csv\")\n",
        "\n",
        "#choose 200 samples randomly.\n",
        "random.seed(1)\n",
        "n_200 = random.sample(range(0,len(df)),200)\n",
        "df_200= df.loc[n_200]"
      ],
      "execution_count": 1,
      "outputs": []
    },
    {
      "cell_type": "markdown",
      "metadata": {
        "id": "yUtfbHdx-pf-",
        "colab_type": "text"
      },
      "source": [
        "####A"
      ]
    },
    {
      "cell_type": "code",
      "metadata": {
        "id": "ByTp6ncF_sYs",
        "colab_type": "code",
        "colab": {
          "base_uri": "https://localhost:8080/",
          "height": 71
        },
        "outputId": "8b51e33c-dd15-4157-afed-18dfbaedba1b"
      },
      "source": [
        "import statsmodels.api as sm\n",
        "from statsmodels.regression.linear_model import OLS\n",
        "\n",
        "#remove null values and take only wanted variables\n",
        "tmp_200 = df_200[['male', 'BMI','TenYearCHD', 'heartRate','totChol']].dropna()\n",
        "\n",
        "# linear regression on our 200 samples\n",
        "x = tmp_200[['male', 'BMI','TenYearCHD', 'heartRate']]\n",
        "x = sm.add_constant(x)\n",
        "y = tmp_200['totChol']\n",
        "model = OLS(y,x)\n",
        "results = model.fit()\n"
      ],
      "execution_count": 2,
      "outputs": [
        {
          "output_type": "stream",
          "text": [
            "/usr/local/lib/python3.6/dist-packages/statsmodels/tools/_testing.py:19: FutureWarning: pandas.util.testing is deprecated. Use the functions in the public API at pandas.testing instead.\n",
            "  import pandas.util.testing as tm\n"
          ],
          "name": "stderr"
        }
      ]
    },
    {
      "cell_type": "code",
      "metadata": {
        "id": "Rdvu17PZxwy7",
        "colab_type": "code",
        "colab": {}
      },
      "source": [
        "CI_0 , CI_1, CI_2, CI_3, CI_4 = dict(), dict(),dict(),dict(),dict() "
      ],
      "execution_count": 3,
      "outputs": []
    },
    {
      "cell_type": "markdown",
      "metadata": {
        "id": "t9TN5BSMvHQN",
        "colab_type": "text"
      },
      "source": [
        "The CI using normal approximation: \n",
        "\n",
        "for $\\beta_i : \\hat{\\beta_i} \\pm Z_{\\alpha/2}\\cdot\\hat{s.e(\\hat{\\beta_i})} $\n",
        "\n",
        "$ \\hat{s.e(\\hat{\\beta_i})} $ = $ \\sqrt{\\hat{\\sigma_{\\epsilon}^2} \\cdot C_{i,i}} $"
      ]
    },
    {
      "cell_type": "code",
      "metadata": {
        "id": "dCKh1JnP-As1",
        "colab_type": "code",
        "colab": {
          "base_uri": "https://localhost:8080/",
          "height": 348
        },
        "outputId": "078596cf-f481-497a-9ee6-b3c535bdb521"
      },
      "source": [
        "data = x.to_numpy()\n",
        "C = np.linalg.inv(np.matmul(data.T, data))\n",
        "beta_hat = results.params #the beta for the 200 samples\n",
        "def creat_ci (C, i):\n",
        "  beta_name = [\"const\", \"male\", \"BMI\", \"TenYearCHD\", \"heartRate\"]\n",
        "  var_hat = results.mse_resid * C[i][i]\n",
        "  ci_a =  beta_hat[i] - stats.norm.ppf(0.975)* np.sqrt(var_hat)\n",
        "  ci_b = beta_hat[i] + stats.norm.ppf(0.975)* np.sqrt(var_hat)\n",
        "  print(\"The confidence interval for b\",i,\"-\", beta_name[i], \"is:\")\n",
        "  print([ci_a , ci_b])\n",
        "  print(\"\\n\")\n",
        "  mycode = \"CI_{}[1]=[ci_a,ci_b]\".format(i)\n",
        "  exec(mycode)\n",
        "\n",
        "for i in range(5):\n",
        "  creat_ci(C, i)\n"
      ],
      "execution_count": 4,
      "outputs": [
        {
          "output_type": "stream",
          "text": [
            "The confidence interval for b 0 - const is:\n",
            "[99.67066702605803, 201.40911674920198]\n",
            "\n",
            "\n",
            "The confidence interval for b 1 - male is:\n",
            "[-26.69426439584401, -3.2049045800707017]\n",
            "\n",
            "\n",
            "The confidence interval for b 2 - BMI is:\n",
            "[0.22951152022721266, 3.0146274667561137]\n",
            "\n",
            "\n",
            "The confidence interval for b 3 - TenYearCHD is:\n",
            "[-1.4314977092620556, 30.491280525466856]\n",
            "\n",
            "\n",
            "The confidence interval for b 4 - heartRate is:\n",
            "[0.21397973166044026, 1.1647044695901179]\n",
            "\n",
            "\n"
          ],
          "name": "stdout"
        }
      ]
    },
    {
      "cell_type": "markdown",
      "metadata": {
        "id": "PrPY3_ZWAHQX",
        "colab_type": "text"
      },
      "source": [
        "####B\n"
      ]
    },
    {
      "cell_type": "markdown",
      "metadata": {
        "id": "3-HPeZsBxJ_w",
        "colab_type": "text"
      },
      "source": [
        "The CI using normal approximation: \n",
        "\n",
        "for $\\beta_i : \\hat{\\beta_i} \\pm Z_{\\alpha/2}\\cdot\\hat{s.e_{boost}(\\hat{\\beta_i})} $\n",
        "\n",
        "when $\\hat{s.e}_{boost}(\\hat{\\beta_i}) = \\sqrt{\\frac{1}{400}\\sum_{b=1}^{400}{\\beta^{*b}_i}^2 - {(\\frac{1}{400}\\sum_{b=1}^{400}\\beta^{*b}_i)}^2}$ \n"
      ]
    },
    {
      "cell_type": "code",
      "metadata": {
        "id": "I7nHEqhTSXbJ",
        "colab_type": "code",
        "colab": {}
      },
      "source": [
        "def calc_std(arr):\n",
        "  return np.sqrt(sum(arr**2)/400 -(sum(arr)/400)**2)"
      ],
      "execution_count": 5,
      "outputs": []
    },
    {
      "cell_type": "code",
      "metadata": {
        "id": "zTPtw6KaOpi6",
        "colab_type": "code",
        "colab": {
          "base_uri": "https://localhost:8080/",
          "height": 266
        },
        "outputId": "892d2689-d76c-4158-8f3b-2d14a47d72cf"
      },
      "source": [
        "b_0 = []\n",
        "b_1 = []\n",
        "b_2 = []\n",
        "b_3 = []\n",
        "b_4 = []\n",
        "\n",
        "\n",
        "for b in range(400):\n",
        "  n_b = np.random.choice(n_200,200)\n",
        "  df_b = df_200.loc[n_b]\n",
        "  df_b = df_b[['male', 'BMI','TenYearCHD', 'heartRate','totChol']].dropna()\n",
        "  data_b = df_b[['male', 'BMI','TenYearCHD', 'heartRate']].to_numpy()\n",
        "  data_b = sm.add_constant(data_b)\n",
        "  y_b = df_b['totChol']\n",
        "  model_b = OLS(y_b,data_b)\n",
        "  results_b = model_b.fit()\n",
        "  beta_hat = results_b.params\n",
        "\n",
        "  for i, b in enumerate([b_0, b_1, b_2, b_3, b_4]):\n",
        "    b.append(beta_hat[i])\n",
        "\n",
        "se_0_hat = calc_std(np.array(b_0))\n",
        "se_1_hat = calc_std(np.array(b_1))\n",
        "se_2_hat = calc_std(np.array(b_2))\n",
        "se_3_hat = calc_std(np.array(b_3))\n",
        "se_4_hat = calc_std(np.array(b_4))\n",
        "\n",
        "param = results.params\n",
        "for i, se in enumerate([se_0_hat, se_1_hat, se_2_hat, se_3_hat, se_4_hat]):\n",
        "  a = param[i] - scipy.stats.norm.ppf(0.975)*se\n",
        "  b = param[i] + scipy.stats.norm.ppf(0.975)*se\n",
        "  print(\"CI for beta\", i, \"is:\", [a,b] )\n",
        "  print(\"\\n\")\n",
        "  mycode = \"CI_{}[2]=[a,b]\".format(i)\n",
        "  exec(mycode)"
      ],
      "execution_count": 6,
      "outputs": [
        {
          "output_type": "stream",
          "text": [
            "CI for beta 0 is: [97.79762136325459, 203.28216241200542]\n",
            "\n",
            "\n",
            "CI for beta 1 is: [-26.291957157892988, -3.607211818021719]\n",
            "\n",
            "\n",
            "CI for beta 2 is: [0.05854281518217652, 3.18559617180115]\n",
            "\n",
            "\n",
            "CI for beta 3 is: [-1.9811485021664268, 31.04093131837123]\n",
            "\n",
            "\n",
            "CI for beta 4 is: [0.19926379716386428, 1.179420404086694]\n",
            "\n",
            "\n"
          ],
          "name": "stdout"
        }
      ]
    },
    {
      "cell_type": "markdown",
      "metadata": {
        "id": "PkXnfL7OORVG",
        "colab_type": "text"
      },
      "source": [
        "####C + D"
      ]
    },
    {
      "cell_type": "markdown",
      "metadata": {
        "id": "1S0L4VD1yvd2",
        "colab_type": "text"
      },
      "source": [
        "Pivot CI for $\\beta_i$: $[2\\hat{\\beta_i} - \\hat{\\beta}^*_{i,1-\\alpha/2}, 2\\hat{\\beta_i} - \\hat{\\beta}^*_{i,\\alpha/2}]$\n",
        "\n",
        "Precentil CI for $\\beta_i$: $[  \\hat{\\beta}^*_{i,\\alpha/2} ,  \\hat{\\beta}^*_{i,1-\\alpha/2} ]$"
      ]
    },
    {
      "cell_type": "code",
      "metadata": {
        "id": "_IVqTO1ILPXW",
        "colab_type": "code",
        "colab": {
          "base_uri": "https://localhost:8080/",
          "height": 546
        },
        "outputId": "810cc0be-e306-487f-8edd-6b7eae1f0a78"
      },
      "source": [
        "b_0 = []\n",
        "b_1 = []\n",
        "b_2 = []\n",
        "b_3 = []\n",
        "b_4 = []\n",
        "beta_hat = results.params #the beta for the 200 samples\n",
        "\n",
        "for b in range(400):\n",
        "  n_b = np.random.choice(n_200,200)\n",
        "  df_b = df_200.loc[n_b]\n",
        "  df_b = df_b[['male', 'BMI','TenYearCHD', 'heartRate','totChol']].dropna()\n",
        "  data_b = df_b[['male', 'BMI','TenYearCHD', 'heartRate']].to_numpy()\n",
        "  data_b = sm.add_constant(data_b)\n",
        "  y_b = df_b['totChol']\n",
        "  model_b = OLS(y_b,data_b)\n",
        "  results_b = model_b.fit()\n",
        "\n",
        "  for i, beta in enumerate([b_0, b_1, b_2, b_3, b_4]):\n",
        "    beta.append(results_b.params[i])\n",
        "\n",
        "for i, beta in enumerate([b_0, b_1, b_2, b_3, b_4]):\n",
        "  beta.sort()\n",
        "  a_pivot = 2*beta_hat[i] - beta[389]\n",
        "  b_pivot = 2*beta_hat[i] - beta[9]\n",
        "  print(\"The pivot CI for beta\", i, \"is:\", [a_pivot,b_pivot])\n",
        "  print(\"\\n\")\n",
        "  mycode = \"CI_{}[3]=[a_pivot,b_pivot]\".format(i)\n",
        "  exec(mycode)\n",
        "print(\"\\n\")\n",
        "\n",
        "for i, beta in enumerate([b_0, b_1, b_2, b_3, b_4]):\n",
        "  beta.sort()\n",
        "  a_precent = beta[9]\n",
        "  b_precent = beta[389]\n",
        "  print(\"The precentil CI for beta\", i, \"is:\", [a_precent, b_precent])\n",
        "  print(\"\\n\")\n",
        "  mycode = \"CI_{}[4]=[a_precent,b_precent]\".format(i)\n",
        "  exec(mycode)\n",
        "\n",
        "\n"
      ],
      "execution_count": 7,
      "outputs": [
        {
          "output_type": "stream",
          "text": [
            "The pivot CI for beta 0 is: [102.88273501422242, 199.75977601239566]\n",
            "\n",
            "\n",
            "The pivot CI for beta 1 is: [-27.146439547152216, -2.92505275843099]\n",
            "\n",
            "\n",
            "The pivot CI for beta 2 is: [0.09477138227977999, 3.0134183835871804]\n",
            "\n",
            "\n",
            "The pivot CI for beta 3 is: [-2.5305998751025456, 30.171938098664214]\n",
            "\n",
            "\n",
            "The pivot CI for beta 4 is: [0.2059701109230878, 1.2043415248423806]\n",
            "\n",
            "\n",
            "\n",
            "\n",
            "The precentil CI for beta 0 is: [101.32000776286436, 198.1970487610376]\n",
            "\n",
            "\n",
            "The precentil CI for beta 1 is: [-26.97411621748372, -2.752729428762492]\n",
            "\n",
            "\n",
            "The precentil CI for beta 2 is: [0.23072060339614642, 3.1493676047035466]\n",
            "\n",
            "\n",
            "The precentil CI for beta 3 is: [-1.1121552824594128, 31.590382691307347]\n",
            "\n",
            "\n",
            "The precentil CI for beta 4 is: [0.17434267640817766, 1.1727140903274704]\n",
            "\n",
            "\n"
          ],
          "name": "stdout"
        }
      ]
    },
    {
      "cell_type": "markdown",
      "metadata": {
        "id": "xtlcZ_lt8ibI",
        "colab_type": "text"
      },
      "source": [
        "###Q2"
      ]
    },
    {
      "cell_type": "code",
      "metadata": {
        "id": "9BwF-lTFOtYN",
        "colab_type": "code",
        "colab": {
          "base_uri": "https://localhost:8080/",
          "height": 1000
        },
        "outputId": "0cdffa07-f00a-4ab8-960e-9663228a392f"
      },
      "source": [
        "tmp_full = df[['male', 'BMI','TenYearCHD', 'heartRate','totChol']].dropna() #all the data without missinf values\n",
        "x_full = tmp_full[['male', 'BMI','TenYearCHD', 'heartRate']]\n",
        "x_full = sm.add_constant(x_full)\n",
        "y_full = tmp_full['totChol']\n",
        "model_full = OLS(y_full,x_full)\n",
        "results_full = model_full.fit()\n",
        "beta_full = results_full.params\n",
        "beta_name = [\"const\", \"male\", \"BMI\", \"TenYearCHD\", \"heartRate\"]\n",
        "\n",
        "for i, CI in enumerate([CI_0, CI_1, CI_2, CI_3, CI_4]):\n",
        "  for j in range(1,5):\n",
        "    if beta_full[i] >= CI[j][0] and beta_full[i] <= CI[j][1]:\n",
        "      print(\"beta\",i, \"is in the CI of section\", j, \"in question 1\")\n",
        "    else:\n",
        "      print(\"beta\",i, \"is not in the CI of section\", j, \"in question 1\")\n",
        "    print(\"the length of the CI of section\", j, \"in question 1 is: \", abs(CI[j][1]-CI[j][0]))\n",
        "    print(\"\\n\")\n",
        "\n",
        "\n",
        "  xmin = [CI[4][0], CI[3][0] , CI[2][0],CI[1][0]]\n",
        "  xmax = [CI[4][1], CI[3][1], CI[2][1], CI[1][1]]\n",
        "  y = [0,1,2,3]\n",
        "  x_labels = [ ' percentile bootstrap', ' pivotal bootstrap',' normal approx. bootstrap' ,' normal approx.'  ]\n",
        "  for j,c in zip(y,['blue','green','red','purple']):\n",
        "    plt.hlines(y=j, xmin=xmin[j], xmax=xmax[j], colors=c)\n",
        "    plt.text(xmax[j], j-0.1, f'{x_labels[j]}, length: {round((xmax[j]-xmin[j]),2)}', color='black', ha='right', va='center')\n",
        "  plt.axvline(beta_full[i], color = 'black')\n",
        "  plt.title(f'Confidence intervals for coefficient {beta_name[i]}')\n",
        "  plt.yticks([])\n",
        "  plt.show()\n"
      ],
      "execution_count": 8,
      "outputs": [
        {
          "output_type": "stream",
          "text": [
            "beta 0 is in the CI of section 1 in question 1\n",
            "the length of the CI of section 1 in question 1 is:  101.73844972314396\n",
            "\n",
            "\n",
            "beta 0 is in the CI of section 2 in question 1\n",
            "the length of the CI of section 2 in question 1 is:  105.48454104875083\n",
            "\n",
            "\n",
            "beta 0 is in the CI of section 3 in question 1\n",
            "the length of the CI of section 3 in question 1 is:  96.87704099817324\n",
            "\n",
            "\n",
            "beta 0 is in the CI of section 4 in question 1\n",
            "the length of the CI of section 4 in question 1 is:  96.87704099817323\n",
            "\n",
            "\n"
          ],
          "name": "stdout"
        },
        {
          "output_type": "display_data",
          "data": {
            "image/png": "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\n",
            "text/plain": [
              "<Figure size 432x288 with 1 Axes>"
            ]
          },
          "metadata": {
            "tags": [],
            "needs_background": "light"
          }
        },
        {
          "output_type": "stream",
          "text": [
            "beta 1 is in the CI of section 1 in question 1\n",
            "the length of the CI of section 1 in question 1 is:  23.489359815773305\n",
            "\n",
            "\n",
            "beta 1 is in the CI of section 2 in question 1\n",
            "the length of the CI of section 2 in question 1 is:  22.68474533987127\n",
            "\n",
            "\n",
            "beta 1 is in the CI of section 3 in question 1\n",
            "the length of the CI of section 3 in question 1 is:  24.221386788721226\n",
            "\n",
            "\n",
            "beta 1 is in the CI of section 4 in question 1\n",
            "the length of the CI of section 4 in question 1 is:  24.221386788721226\n",
            "\n",
            "\n"
          ],
          "name": "stdout"
        },
        {
          "output_type": "display_data",
          "data": {
            "image/png": "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\n",
            "text/plain": [
              "<Figure size 432x288 with 1 Axes>"
            ]
          },
          "metadata": {
            "tags": [],
            "needs_background": "light"
          }
        },
        {
          "output_type": "stream",
          "text": [
            "beta 2 is in the CI of section 1 in question 1\n",
            "the length of the CI of section 1 in question 1 is:  2.785115946528901\n",
            "\n",
            "\n",
            "beta 2 is in the CI of section 2 in question 1\n",
            "the length of the CI of section 2 in question 1 is:  3.1270533566189735\n",
            "\n",
            "\n",
            "beta 2 is in the CI of section 3 in question 1\n",
            "the length of the CI of section 3 in question 1 is:  2.9186470013074004\n",
            "\n",
            "\n",
            "beta 2 is in the CI of section 4 in question 1\n",
            "the length of the CI of section 4 in question 1 is:  2.9186470013074004\n",
            "\n",
            "\n"
          ],
          "name": "stdout"
        },
        {
          "output_type": "display_data",
          "data": {
            "image/png": "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\n",
            "text/plain": [
              "<Figure size 432x288 with 1 Axes>"
            ]
          },
          "metadata": {
            "tags": [],
            "needs_background": "light"
          }
        },
        {
          "output_type": "stream",
          "text": [
            "beta 3 is in the CI of section 1 in question 1\n",
            "the length of the CI of section 1 in question 1 is:  31.92277823472891\n",
            "\n",
            "\n",
            "beta 3 is in the CI of section 2 in question 1\n",
            "the length of the CI of section 2 in question 1 is:  33.022079820537655\n",
            "\n",
            "\n",
            "beta 3 is in the CI of section 3 in question 1\n",
            "the length of the CI of section 3 in question 1 is:  32.70253797376676\n",
            "\n",
            "\n",
            "beta 3 is in the CI of section 4 in question 1\n",
            "the length of the CI of section 4 in question 1 is:  32.70253797376676\n",
            "\n",
            "\n"
          ],
          "name": "stdout"
        },
        {
          "output_type": "display_data",
          "data": {
            "image/png": "iVBORw0KGgoAAAANSUhEUgAAAWAAAAEICAYAAABhxi57AAAABHNCSVQICAgIfAhkiAAAAAlwSFlzAAALEgAACxIB0t1+/AAAADh0RVh0U29mdHdhcmUAbWF0cGxvdGxpYiB2ZXJzaW9uMy4yLjEsIGh0dHA6Ly9tYXRwbG90bGliLm9yZy+j8jraAAAgAElEQVR4nO3deVxVdf748ddHtFQwzSXLDbUvSQKXiyDiQkDk0kiZpqOGJpaWptP2C7OZMZeybzPaalP5tRLTcs3UaposldTRQkvU0cyV3BcUFxRS9P3741zusF020YP1fj4ePLhn+3ze53POfZ/P+ZzLxYgISimlrr4qdgeglFK/V5qAlVLKJpqAlVLKJpqAlVLKJpqAlVLKJpqAlVLKJr+rBGyMqWGM+cwYc8oYM98YE2+MWVrM+snGmCFXM8biGGPeNcaMsTuO0jDGpBlj7irHdsONMUeMMZnGmHpXIrbLZYxpaIxZaYw5Y4x5xVimG2MyjDEpxphIY8zPpSin2PNP/Q6ISKX7AR4A1gOZwCHgS6BTBZQ7EEgBqpZy/WRgiN3tUc59TQJetLH+NOCuMm5TDcgCgu1uvxLiHAMsBIxrOhLYD3jbGJMA/+Nh2Z9d76VMIBu4mGd6SznqMsBKYGyB+Q8Cu4CaFbxvtwDvu3LBGWAbMD63vYvad2AcMKtA+5x17fNxYBnQ1+5zqdL1gI0xTwOvAy8BDYFmwNtAjwoo3hfYLiI5FVDWb5oxpqoN1TYEqgNbyrqhqxd6tc5nX2CruN7Zruk0ETl7leovExF5SUR8RMQHGAaszZ0WkYBylCfAEOApY0wAgDGmAfAKVoflXEXEbYypaoypC6wFagDtRaQW0BmoA9xaxiKDXW3QCquD8pYxZmxFxFpudl8BCly1amNdofoUs871WAn6oOvndeB617JorJ7I/wOOYl0xB7uWjQfOAxdcdTwMJACr85TdGevqegp4C/iWPD1g4CHgJyAD+ArwLXCFHQbsAE4C/8DVQ3ItH+ra9gywFWjjmt8I+AQ4BuwBHi9m35Nw9WpL2NdHXPt53rWvn5VUF1aPYQEwCzgNPI/VG62bZ50QIB2rp3orsByrN5EOfATUybNuGq4eMBCOdUdzGjgCvFrEvt2G1UMRV8zLXfM7AOtcx2Qd0CHPNsnARODfrlgL9QCBpli91WOuWN9yza8C/BX4xdV+HwK182wXAaxxHcuNQHSeY5C3bR8lf69yfO6xKUUMCeQ///yBr4ETwM/AHwsc+38AX2CdQ98Dt7qWrSR/D89jz66i6nQtTwS+c7XlbOBd1/w4INXVdmsAR55tRmP1knPfBz0LxPZv4DVXO73o+tkMVClmn0rbAy64Tm/XsatnW86zq2IPDdkNyKGYIQJgguug3wQ0cB3gF1zLol3bT8BKEn8AzgE3ejgo7pMRqO86KXq7tn3KVdYQ1/IewE7gdqAq1pt3TYED/DnWlbkZ1putm2tZH+AA0Bbr9u1/sHpNVYAfsJLddUBLYDfQ1cO+J5E/ARe3r+51XdPF1uVqmwvAfa51a2Al2KF5ypjEf99k/4N1wbredRxWAq/nWTeN/ybgtcBA12sfIMLD/jV3tWNV13RdrIvdQFeb93dN13MtTwb2AgGu5dUKlOeFlTxfA7yxetedXMsech3Plq6YFgIzXcsaYyWAP7jaorNruoGHtk0gf1KLxpWAS4jBvZ1r2T5gsGtfci92rfPUeRzrYlYV64I3p7gE46GNK7JOL6ykvNB1HGq5yjgKtHMtH+Q6F3I7SX2wOgJVgL5YF41b8sSWA/zJVV8NrPf6+BL2qbwJuJqrvrtty3l2VeyhIeOBwyWsswv4Q57prli3f7knfhZ5ErjrZIjwcFDynowPAt/lWWawepi5CfhL4OE8y6tgJTzfPAe4U57l84DRrtdfAU8UsS/tgL0F5j0HTPew70nkT8DF7at73dLU5WqblQWWD+G/PVGD9Wa9w0Ns9wEb8kyn8d8EvBKrZ1i/hGPbnPwJeCCQUmCdtUCC63UyMKGY8tpjXQgLXdCxxgAfyzPdCusCVBV4FlcyzrP8K2CQh7Z1n0d5js3+UsSQ9/zrC6wqsHwqrnFWV53v5Vn2B2BbnunyJODLqtM1L8BVdw/X9Du4OkR51vkZiPIQT2qebROKOEd3AMNK2CfBurs6mecnmxISsGv+YSC+pHa7Uj+VbQz4OFC/hPHHRli3jbl+cc1zlyH5x3jPYfVwStIIK8EA7nGufXmW+wJvGGNOGmNOYt2yGazeUq7DHuptinXhKMgXaJRbpqvcP2ONhZZGWfa1NHXtK7DNJ0B7Y8wtwB3AJWAVuD8JMMcYc8AYcxpr6KK+h7ofxhpi2GaMWWeMiSvl/hU81rim87Z5wZjzagr8IkWP+Rd1HlXFag9foE+BtuqE9TCorIqLIS9foF2BOuOBm/Os4+n8Kq/LrlNEcsfrc3/7Av+vQJlNcb1HjTEPGmNS8ywLJP95U/B4Hqd07d5GROrk/gAvl7SBMaYa1t3biVKUf0XY8aClOGuBX7F6Uws8rHMQ6yDnHvBmrnmX6xDWiQJYD3XyTmOdGBNF5KNylL2Poh8Y7AP2iIhfOcosiZSjrnzbiEiG62NSfbGGXua4LkxgPSQVIEhEThhj7sMaNy9cqMgOoL/rIVkvYIExpp6U/NAq91jn1Qz4l6eYC9gHNDPGVC0iARYsuxnW7egR13YzRWRoCfGVRnExFFzvWxHpXAF1ltaVqDP3fTKx4AJjjC8wDYjFehB40RiTitWRyVXweH4D9DTGjBeRSxUYJ1jDijlYn4yyRaXqAYvIKawxyn8YY+4zxtQ0xlQzxtxtjPm7a7XZwF+NMQ2MMfVd68+qgOq/AAKMMb1cPfDHyd8TeBd4Ls9T39rGmD6lLPs94BljTKjraf3/uE7GFOCMMeZZ12eUvYwxgcaYthWwP0ewxjdzlbeuj7GGZ3q7XueqhfXA55QxpjHWA5kiGWMGGGMauN5AJ12zS/Nm+idwmzHmAdcT8b5Aa6yx9tJIwbqwvmyM8TbGVDfGdHQtm431FL+FMcYH64Iy15UkZwH3GGO6utqpujEm2hjTpJT1ljaGvD537etA1zlfzRjT1hhzeynrKXi8S+Ny6yzKNGCYMaad61z3NsZ0N8bUwhpzFqwhGYwxg7F6wMV5FbgBmOF6z2CMaWyMedUY4yhPgMaYusaYeKwHjH8TkePlKaciVKoEDCAirwBPYz3kOoZ1RR0JLHKt8iLWE/VNWE9Hf3TNu9x607EeELyMddvjh/VENnf5p8DfgDmuW+7/AHeXsuz5WE/rP8Z60LcI69MFF7GeGDuxPpWQjpWsa1/u/mB9brK161Zv0WXUtQSrLQ6LyMY888cDbbA+nfAF1oMYT7oBW4wxmcAbQD8RySppB1xvjDisT3ocB0YBca5jVSLXPt+D9cBwL9aYfl/X4g+AmVjj03uwxgz/5NpuH1bv6M/89xxMpBzvlxJiyLveGaAL0A+rd34Y63y7vpRVjcNKUieNMX8sZWyXW2dRZa7H+sTPW1gPTHdije0iIluxPqq2FuuCEUSe95iH8k5gfRLmAvC9MeYM1vj9KVfZZbHRdQ7uxPUxOhF5voxlVKjcD5IrpZS6yipdD1gppX4vNAErpZRNNAErpZRNNAErpZRNyvQ54Pr160vz5s2vUCiqsvv5Z+sbFlu1amVzJEpdW3744Yd0EWlQcH6ZEnDz5s1Zv359xUWlrinR0dEAJCcn2xqHUtcaY0zBv+gEdAhCKaVsowlYKaVsoglYKaVsoglYKaVsoglYKaVsoglYKaVsoglYKaVsUtm+kJ2k6CS7Q1AeHE61/jmCHiP1W5GQnGBr/doDVkopm1S6HrDdVyTlWW7PV4+RUhVDe8BKKWUTTcBKlVF0dPQ1/50oaWlpBAaW9O/Yyi45OZk1a9a4pxMSEliwwNP/1y3aww8/THBwMA6Hg969e5OZmQnAypUradOmDVWrVi22zLlz5+JwOAgICODZZ591z3/11Vdp3bo1DoeD2NhYfvmlyK9nuKo0AavflZyckv47fOVyrcVbMAGXx2uvvcbGjRvZtGkTzZo14623rH+23axZM5KSknjggQc8bnv8+HESExNZtmwZW7Zs4fDhwyxbtgyAkJAQ1q9fz6ZNm+jduzejRo26rDgrgiZgdc3x8fHhL3/5C8HBwURERHDkyBHA6tXdeeed7h7O3r17AasXNmzYMNq1a8eoUaNISEhg+PDhRERE0LJlS5KTk3nooYe4/fbbSUhIcNczfPhwwsLCCAgIYOzYsSXGNWHCBNq2bUtgYCCPPPIIuf9vMTo6mieeeAKn00lgYCApKdZ/QR83bhwDBw6kffv2+Pn5MW3aNMBKYpGRkdx77720bt2a7OxsBg8eTFBQECEhIaxYsQKAHj168OGHHwIwdepU4uPjy9WeFy9eJDExkbZt2+JwOJg6dao7jujoaHr37o2/vz/x8fHuffrnP/+Jv78/oaGhPP7448TFxZGWlsa7777La6+9htPpZNWqVYDVc+3QoQMtW7YsVW/4hhtuAEBEyMrKwhjrv9Y3b94ch8NBlSqe09bu3bvx8/OjQQPrmx/vuusuPvnkEwBiYmKoWbMmABEREezfv788zVWxRKTUP6GhoaJ+v6KioiQqKsruMASQJUuWiIhIYmKivPDCCyIiEhcXJ0lJSSIi8v7770uPHj1ERGTQoEHSvXt3ycnJcU/37dtXLl26JIsWLZJatWrJpk2b5OLFi9KmTRvZsGGDiIgcP35cRERycnIkKipKNm7cKCJWO6xbt65QXLnri4gMGDDAHWNUVJQMGTJERES+/fZbCQgIEBGRsWPHisPhkHPnzsmxY8ekSZMmcuDAAVmxYoXUrFlTdu/eLSIikydPlsGDB4uIyE8//SRNmzaVrKwsOXz4sNx6662ycuVK8fPzy1d/Sfbs2eOOY+rUqe42zM7OltDQUNm9e7esWLFCbrjhBtm3b59cvHhRIiIiZNWqVZKVlSVNmjRxx9evXz/p3r27e58mTZrkrmfQoEHSu3dvuXjxomzZskVuvfVW97Lg4GCP8SUkJMhNN90k0dHRcvbs2XzLBg0aJPPnzy9yuxMnTkjjxo1lz549cuHCBenVq5fExcUVWm/EiBHufb4agPVSRE7VHrC65lx33XXExcUBEBoaSlpaGgBr1651354OHDiQ1atXu7fp06cPXl5e7ul77rkHYwxBQUE0bNiQoKAgqlSpQkBAgLu8efPm0aZNG0JCQtiyZQtbt24tNq4VK1bQrl07goKCWL58OVu2bHEv69+/PwB33HEHp0+f5uTJk4DVi61Rowb169cnJibG3TsODw+nRYsWAKxevZoBAwYA4O/vj6+vL9u3b6dhw4ZMmDCBmJgYXnnlFerWrVuu9ly6dCkffvghTqeTdu3acfz4cXbs2OGOo0mTJlSpUgWn00laWhrbtm2jZcuW7vhy982T++67jypVqtC6dWv33QpAamqqx22mT5/OwYMHuf3225k7d26p9+XGG2/knXfeoW/fvkRGRtK8efN8xx1g1qxZrF+/nsTExFKXe6VoAlbXnGrVqrlvS728vEo1Turt7Z1v+vrrrwegSpUq7te50zk5OezZs4fJkyezbNkyNm3aRPfu3cnOzvZYfnZ2No899hgLFixg8+bNDB06NN/6ufEWnPY0v2C8nmzevJl69epx8ODBUq1fFBFhypQppKamkpqayp49e+jSpQtAvrYpbVsXlLcMcQ1hlIaXlxf9+vVzDyGU1j333MP333/P2rVradWqFbfddpt72TfffMPEiRNZsmRJvrjsoglY/WZ06NCBOXPmAPDRRx8RGRlZ7rJOnz6Nt7c3tWvX5siRI3z55ZfFrp+bbOvXr09mZmahsc7cXtzq1aupXbs2tWvXBmDx4sVkZ2dz/PhxkpOTadu2baGyIyMj+eijjwDYvn07e/fupVWrVqSkpPDll1+yYcMGJk+ezJ49ewptm5KSwoMPPlhs7F27duWdd97hwoUL7jrOnj3rcf1WrVqxe/du951C3h5qrVq1OHPmTLH1FUdE2Llzp/v1kiVL8Pf3L1MZR48eBSAjI4O3336bIUOGALBhwwYeffRRlixZwk033VTuGCtSpftDDKXKa8qUKQwePJhJkybRoEEDpk+fXu6ygoODCQkJwd/fn6ZNm9KxY8di169Tpw5Dhw4lMDCQm2++uVAirV69OiEhIVy4cIEPPvjAPd/hcBATE0N6ejpjxoyhUaNGbN++Pd+2jz32GMOHDycoKIiqVauSlJQEwNChQ5k+fTqNGjXilVde4aGHHmL58uXuh2jDhg1j79691KhRo9jYhwwZQlpaGm3atEFEaNCgAYsWLfK4fo0aNXj77bfp1q0b3t7e+fb1nnvuoXfv3ixevJgpU6YUW6/T6Sw0DCEiDBo0iNOnTyMiBAcH88477wCwbt06evbsSUZGBp999hljx451D/PkLeuJJ55g48aNADz//PPuHnBiYiKZmZn06dMHsD5VsWTJkmJjvNJMWW4JwsLC5Fr//KMqP/2fcOUTHR3N5MmTCQsLyzd/3Lhx+Pj48Mwzz1yxuhMTExk4cCAOh6NCy83MzMTHxwcRYcSIEfj5+fHUU09VaB2/JcaYH0QkrOB87QEr9Rs2adKkK1LutGnTmDFjBufPnyckJIRHH330itTzW6c9YFVq2gNWqnw89YD1IZxSStlEE7BSStlEE7BSStlEE7BSStlEE7BSStlEE7BSStlEE7BSStlEE7BSStlEE7BSStlEE7BSStlEE7BSStlEE7BSStlEE7BSStlEE7BSStlEE7BSStlEE7BSStlEE7BSStlEE7BSStlEE7BSStlEE7BSStlEE7BSStlEE7BSStlEE7BSStlEE7BSStlEE7BSStlEE7BSStlEE7BSStlEE7BSStlEE7BSStlEE7BSStlEE7BSStlEE7BSStlEE7BSStlEE7BSStlEE7BSStlEE7BSStlEE7BSStlEE7BSStlEE7BSStlEE7BSStlEE7BSStlEE7BSStlEE7BSStlEE7BSStlEE7BSStlEE7BSStlEE7BSStlEE7BSStlEE7BSStlEE7BSStlEE7BSStmkqq21R0fbWr0qo9RU67ceN/Vblpx81arSHrBSStnE3h7wVbzSqAqQ2/PV46ZUhdAesFJK2UQTsLJNdHQ069evtzuMMktKSmLkyJGXXc7Jkyd5++23S1zvpZdeuuy6SiM5OZm4uLgKL3fRokVs3brVPV2e496tWzeCg4MJCAhg2LBhXLx4EYAxY8bgcDhwOp106dKFgwcPFrn9jBkz8PPzw8/PjxkzZgBw7tw5unfvjr+/PwEBAYwePbqce1h+moBVueTk5NgdQplUxngvNwGLCJcuXarosCpcwQRcHvPmzWPjxo385z//4dixY8yfPx+AxMRENm3aRGpqKnFxcUyYMKHQtidOnGD8+PF8//33pKSkMH78eDIyMgB45pln2LZtGxs2bODf//43X3755WXFWVaagH/HfHx8+Mtf/kJwcDAREREcOXIEgLS0NO68804cDgexsbHs3bsXgG3btrF9+3batWvHqFGjSEhIYPjw4URERNCyZUuSk5N56KGHuP3220lISHDXM3z4cMLCwggICGDs2LElxjVhwgTatm1LYGAgjzzyCCICWD2nJ554AqfTSWBgICkpKQCMGzeOgQMH0r59e/z8/Jg2bRpg9egiIyO59957ad26NdnZ2QwePJigoCBCQkJYsWIFAD169ODDDz8EYOrUqcTHx5cY4759+4iOjsbPz4/x48e757/66qsEBgYSGBjI66+/Xuz80aNHs2vXLpxOJ4mJiRw6dIg77rjDvX+rVq1i9OjRZGVl4XQ6iY+PJy0tjVatWvHggw8SGBjIvn37PLZv8+bNGTVqFEFBQYSHh7Nz584S9yvX2bNneeihhwgPDyckJITFixcDVu+/V69edOvWDT8/P0aNGuXe5v333+e2224jPDycoUOHMnLkSNasWcOSJUtITEzE6XSya9cuAObPn094eDi33XYbq1atKjGeG264AbAupOfPn8cYk29+bsy58/P66quv6Ny5M3Xr1uXGG2+kc+fO/Otf/6JmzZrExMQAcN1119GmTRv2799f6jaqECJS6p/Q0FBRvx2ALFmyREREEhMT5YUXXhARkbi4OElKShIRkffff1969OghIiINGzaUunXrSk5OjoiIDBo0SPr27SuXLl2SRYsWSa1atWTTpk1y8eJFadOmjWzYsEFERI4fPy4iIjk5ORIVFSUbN24UEZGoqChZt25dobhy1xcRGTBggDvGqKgoGTJkiIiIfPvttxIQECAiImPHjhWHwyHnzp2TY8eOSZMmTeTAgQOyYsUKqVmzpuzevVtERCZPniyDBw8WEZGffvpJmjZtKllZWXL48GG59dZbZeXKleLn55ev/qJMnz5dbr75ZklPT5dz585JQECArFu3TtavXy+BgYGSmZkpZ86ckdatW8uPP/7ocf6ePXvc+5Ab34svvuhuq9OnT4uIiLe3t3udPXv2iDFG1q5dW6i9Cravr6+vu7wZM2ZI9+7di92vFStWuNd57rnnZObMmSIikpGRIX5+fpKZmSnTp0+XFi1ayMmTJyUrK0uaNWsme/fulQMHDoivr68cP35czp8/L506dZIRI0aIiHWezJ8/311PVFSUPP300yIi8sUXX0hsbKyIiBw4cEDuvvtuj/F16dJF6tSpI/3793efgyIif/7zn6VJkyYSEBAgR48eLbTdpEmT3Oe2iMiECRNk0qRJ+dbJyMiQFi1ayK5du4pto/IC1ksROVV7wL9j1113nXvMLzQ0lLS0NADWrl3LAw88AMDAgQNZvXq1e5sGDRrg5eXlnr7nnnswxhAUFETDhg0JCgqiSpUqBAQEuMubN28ebdq0ISQkhC1btpR4O7pixQratWtHUFAQy5cvZ8uWLe5l/fv3B+COO+7g9OnTnDx5ErB6sTVq1KB+/frExMS4e8fh4eG0aNECgNWrVzNgwAAA/P398fX1Zfv27TRs2JAJEyYQExPDK6+8Qt26dUtsu86dO1OvXj1q1KhBr169WL16NatXr6Znz554e3vj4+NDr169WLVqlcf5BbVt25bp06czbtw4Nm/eTK1atYqs29fXl4iICPd0ce2b2179+/dn7dq1Je5XrqVLl/Lyyy/jdDqJjo4mOzvbfScUGxtL7dq1qV69Oq1bt+aXX34hJSWFqKgo6tatS7Vq1ejTp0+x5ffq1QvIf941atSIf/7znx63+eqrrzh06BC//vory5cvd8+fOHEi+/btIz4+nrfeeqvU+5grJyeH/v378/jjj9OyZcsyb385NAH/jlWrVs19y+bl5VWqcdK8yRfg+uuvB6BKlSru17nTOTk57Nmzh8mTJ7Ns2TI2bdpE9+7dyc7O9lh+dnY2jz32GAsWLGDz5s0MHTo03/oFbzFzpz3N9/b2LnGfADZv3ky9evU8PsQpyFN9l+OOO+5g5cqVNG7cmISEBPewSEF596mk9s0bV1liFBE++eQTUlNTSU1NZe/evdx+++0A+Y5zac+bgnLLKOv21atXp0ePHu4hkbzi4+P55JNPCs1v3Lgx+/btc0/v37+fxo0bu6cfeeQR/Pz8ePLJJ8uyCxVCE7AqpEOHDsyZMweAjz76iMjIyHKXdfr0aby9valduzZHjhwp8SFHbvKoX78+mZmZLFiwIN/yuXPnAlZvtnbt2tSuXRuAxYsXk52dzfHjx0lOTqZt27aFyo6MjOSjjz4CYPv27ezdu5dWrVqRkpLCl19+yYYNG5g8eTJ79uwpcb++/vprTpw4QVZWFosWLaJjx45ERkayaNEizp07x9mzZ/n000+JjIz0OL9WrVqcOXPGXeYvv/xCw4YNGTp0KEOGDOHHH38ErAvlhQsXytW+ue01d+5c2rdvD8Cnn37Kc889V+z+de3alSlTprjH3zds2FDs+m3btuXbb78lIyODnJycfImw4H6WVWZmJocOHQKs3uoXX3yBv78/ADt27HCvt3jxYvf8gvuydOlSMjIyyMjIYOnSpXTt2hWAv/71r5w6dSrfeP3VZO8fYqhKacqUKQwePJhJkybRoEEDpk+fXu6ygoODCQkJwd/fn6ZNm9KxY8di169Tpw5Dhw4lMDCQm2++uVAirV69OiEhIVy4cIEPPvjAPd/hcBATE0N6ejpjxoyhUaNGbN++Pd+2jz32GMOHDycoKIiqVauSlJQEwNChQ5k+fTqNGjXilVde4aGHHmL58uVMnToVgGHDhhWKMzw8nPvvv5/9+/czYMAAwsLCAEhISCA8PByAIUOGEBISUuz8jh07EhgYyN13301gYCCTJk2iWrVq+Pj4uHvAjzzyCA6HgzZt2jBx4sQytW9GRgYOh4Prr7+e2bNnA7Br1658D6+KMmbMGJ588kkcDgeXLl2iRYsWfP755x7Xb9y4MX/+858JDw+nbt26+Pv7uy+O/fr1Y+jQobz55puFLqh5HTx4kCFDhhQahjh79iz33nsvv/76K5cuXSImJsZ9TEaPHs3PP/9MlSpV8PX15d133wVg/fr1vPvuu7z33nvUrVuXMWPGuM+l559/nrp167J//34mTpyIv78/bdq0AWDkyJEMGTKk2LapUEUNDHv60Ydwv29RUVESFRVla/1FPbQbO3ZsoYcqynoId+zYsULz4+Pji3xYdbnOnDkjIiIXLlyQuLg4WbhwYYXXca1CH8IppQBmzZpFgwYNKrzccePGuT9C16JFC+67774Kr+O3xohrjKc0wsLC5Fr8yyVVMaJd3wWRrN8FoVSZGGN+EJGwgvO1B6yUUjbRBKyUUjbRBKyUUjbRBKyUUjbRBKyUUjbRBKyUUjbRBKyUUjbRBKyUUjbRBKyUUjbRBKyUUjbRBKyUUjbRBKyUUjbRBKyUUjbRBKyUUjbRBKyUUjbRBKyUUjbRBKyUUjbRBKyUUjbRBKyUUjbRBKyUUjbRBKyUUjbRBKyUUjbRBKyUUjbRBKyUUjbRBKyUUjbRBKyUUjbRBKyUUjbRBKyUUjbRBKyUUjbRBKyUUjbRBHuXvP0AABdfSURBVKyUUjbRBKyUUjbRBKyUUjbRBKyUUjbRBKyUUjbRBKyUUjbRBKyUUjbRBKyUUjbRBKyUUjbRBKyUUjbRBKyUUjbRBKyUUjbRBKyUUjbRBKyUUjbRBKyUUjbRBKyUUjbRBKyUUjbRBKyUUjbRBKyUUjbRBKyUUjbRBKyUUjaperUqik6KvlpVqSsk9XAqoMdSXfuSE5LtDgHQHrBSStnmqvWAK8sVR5Vfbs9Xj6VSFUN7wOqa8/zzz/PNN9+Ua9uXXnqpVOs1b96c9PT0QvN9fHzKVW9BSUlJHDx4sNh1Fi1axNatWyukvpJ42t/LkZaWxscff+yeTkpKYuTIkWUq49133yUoKAin00mnTp3c7fH1118TGhpKUFAQoaGhLF++vMjt+/bti9PpxOl00rx5c5xOZ/l36ArQBKyuORMmTOCuu+4q17alTcBX2uUm4JycnCsRVoUqmIDL44EHHmDz5s2kpqYyatQonn76aQDq16/PZ599xubNm5kxYwYDBw4scvu5c+eSmppKamoq999/P7169bqseCqaJmBVafn4+PDUU08REBBAbGwsx44dAyAhIYEFCxbwr3/9iz59+rjXT05OJi4uDoDZs2cTFBREYGAgzz77LACjR48mKysLp9NJfHw8APfddx+hoaEEBATwf//3f6WKq6iYUlNTiYiIwOFw0LNnTzIyMjzOX7BgAevXryc+Ph6n00lWVhajR4+mdevWOBwOnnnmGdasWcOSJUtITEzE6XSya9cuoqOjefLJJwkLC+ONN97gs88+o127doSEhHDXXXdx5MgRAMaNG8fAgQNp3749fn5+TJs2rUztPmvWLMLDw3E6nTz66KNcvHjRfTz+8pe/EBwcTEREhLu+Xbt2ERERQVBQEH/961/ddwmjR49m1apVOJ1OXnvtNQAOHjxIt27d8PPzY9SoUSXGcsMNN7hfnz17FmMMACEhITRq1AiAgIAAsrKy+PXXXz2WIyLMmzeP/v37l6ktrjgRKfVPaGioqN+vqKgoiYqKumr1ATJr1iwRERk/fryMGDFCREQGDRok8+fPlwsXLkjTpk0lMzNTRESGDRsmM2fOlAMHDkjTpk3l6NGjcuHCBYmJiZFPP/1URES8vb3z1XH8+HERETl37pwEBARIenq6iIj4+vrKsWPHSh1TUFCQJCcni4jImDFj5Iknnih2flRUlKxbt05ERNLT0+W2226TS5cuiYhIRkZGvv3MFRUVJcOHD3dPnzhxwr3NtGnT5OmnnxYRkbFjx4rD4ZBz587JsWPHpEmTJnLgwIFi2zp3f7du3SpxcXFy/vx5EREZPny4zJgxw73vS5YsERGRxMREeeGFF0REpHv37vLxxx+LiMg777zjbuMVK1ZI9+7d3XVMnz5dWrRoISdPnpSsrCxp1qyZ7N27V0REHn74YXd7FPTWW29Jy5YtpUmTJrJ9+/ZCy+fPny+xsbHF7t+3334rduYvYL0UkVO1B6wqrSpVqtC3b18ABgwYwOrVq/Mtr1q1Kt26deOzzz4jJyeHL774gh49erBu3Tqio6Np0KABVatWJT4+npUrVxZZx5tvvunu0e3bt48dO3aUOaZTp05x8uRJoqKiABg0aBArV670OL+g2rVrU716dR5++GEWLlxIzZo1PdafWzfA/v376dq1K0FBQUyaNIktW7a4l/Xo0YMaNWpQv359YmJiSElJKXa/ci1btowffviBtm3b4nQ6WbZsGbt37wbguuuuc99hhIaGkpaWBsDatWvddyIPPPBAseXHxsa697d169b88ssvALz33nuEhYUVuc2IESPYtWsXf/vb33jxxRfzLduyZQvPPvssU6dOLbbe2bNnV77eLzoEoa4hubefefXr14958+axfPlywsLCqFWrVqnLS05O5ptvvmHt2rVs3LiRkJAQsrOzLzumsqpatSopKSn07t2bzz//nG7dunlc19vb2/36T3/6EyNHjmTz5s1MnTo1X+wF4yptnCLCoEGD3OOmP//8M+PGjQOgWrVq7nK8vLzKNQ59/fXXu1+XtYx+/fqxaNEi9/T+/fvp2bMnH374IbfeeqvH7XJycli4cGG+i1dloQlYVVqXLl1iwYIFAHz88cd06tSp0DpRUVH8+OOPTJs2jX79+gEQHh7Ot99+S3p6OhcvXmT27NnuXmi1atW4cOECAKdOneLGG2+kZs2abNu2je+++65cMdWuXZsbb7yRVatWATBz5kyioqI8zgeoVasWZ86cASAzM5NTp07xhz/8gddee42NGzcWWqcop06donHjxgDMmDEj37LFixeTnZ3N8ePHSU5Opm3btgD4+/sXu3+xsbEsWLCAo0ePAnDixAl3L9WTiIgIPvnkEwDmzJnjnl9S/KWR947kiy++wM/PD4CTJ0/SvXt3Xn75ZTp27FhsGd988w3+/v40adLksmK5EjQBq0rL29ublJQUAgMDWb58Oc8//3yhdby8vIiLi+PLL7903x7fcsstvPzyy8TExBAcHExoaCg9evQA4JFHHsHhcBAfH0+3bt3Iycnh9ttvZ/To0URERJQ7phkzZpCYmIjD4SA1NbXE+QkJCQwbNgyn08mZM2eIi4vD4XDQqVMnXn31VcDq8U2aNImQkBB27dpVKJZx48bRp08fQkNDqV+/fr5lDoeDmJgYIiIiGDNmDI0aNSI9PR1rONKz1q1b8+KLL9KlSxccDgedO3fm0KFDxW7z+uuv8+qrr+JwONi5cye1a9d2x+Dl5UVwcLD7IZwnQ4YMYf369YXmv/XWWwQEBOB0Onn11VfdF5q33nqLnTt3MmHCBPfHzHIvGgXLmjNnTqUcfgAwJR2QvMLCwqSoRlK/D9HR0YB16341+Pj4kJmZeVXq+i0ZN24cPj4+PPPMM/nmf/755+zevZvHH3+8Qus7d+4cNWrUwBjDnDlzmD17NosXL67QOq51xpgfRKTQIPdV+0s4pZS9cu8QKtoPP/zAyJEjERHq1KnDBx98cEXq+S3SBKwqLe39lk/uQ7OrJTIy0j1urcpGx4CVUsommoCVUsommoCVUsommoCVUsommoCVUsommoCVUsommoCVUsommoCVUsommoCVUsommoCVUsommoCVUsommoCVUsommoCVUsommoCVUsommoCVUsommoCVUsommoCVUsommoCVUsommoCVUsommoCVUsommoCVUsommoCVUsommoCVUsommoCVUsommoCVUsommoCVUsommoCVUsommoCVUsommoCVUsommoCVUsommoCVUsommoCVUsommoCVUsommoCVUsommoCVUsommoCVUsommoCVUsommoCVUsommoCVUsommoCVUsommoCVUsommoCVUsommoCVUsommoCVUsommoCVUsommoCVUsommoCVUsommoCVUsommoCVUsommoCVUsommoCVUsommoCVUsomVe0OoDjR0XZHoPJKTbV+63FRvzfJyVemXO0BK6WUTSp1D/hKXXVU+eT2fPW4KFUxtAesVAFJSUkcPHjQPT1kyBC2bt0KQPPmzUlPTy91WWVd35NFixa5Y/AkOTmZNWvWXHZdpREdHc369esrtMyTJ0/y9ttvu6eTk5OJi4srUxmLFy/G4XDgdDoJCwtj9erVAKSmptK+fXsCAgJwOBzMnTu3yO2feuopnE4nTqeT2267jTp16pR/h0qhUveAlSqtnJwcqlatmNM5KSmJwMBAGjVqBMB7771XIeVejkWLFhEXF0fr1q09rpOcnIyPjw8dOnQotKwi2+dKyU3Ajz32WLnLiI2N5d5778UYw6ZNm/jjH//Itm3bqFmzJh9++CF+fn4cPHiQ0NBQunbtWijBvvbaa+7XU6ZMYcOGDeWOpTS0B6wqDR8fH5566ikCAgKIjY3l2LFjAOzatYtu3boRGhpKZGQk27ZtAyAhIYFhw4bRrl07Ro0axc6dO7nrrrsIDg6mTZs27Nq1C4BJkybRtm1bHA4HY8eOBSAtLY3bb7+doUOHEhAQQJcuXcjKymLBggWsX7+e+Ph4nE4nWVlZHnt7s2bNIjw8HKfTyaOPPsrFixeL3K+///3vBAUFER4ezs6dO93133nnnTgcDmJjY9m7d6/H+WvWrGHJkiUkJibidDrZtWsXb775Jq1bt8bhcNCvXz/S0tJ49913ee2113A6naxatapQ+6SkpNC+fXtCQkLo0KEDP//8M2BdcHr06EF0dDR+fn6MHz++TMdt6dKltG/fnjZt2tCnTx8yMzMBq/c/duxY2rRpQ1BQkPu4HTt2jM6dOxMQEMCQIUPw9fUlPT2d0aNHs2vXLpxOJ4mJiQBkZmbSu3dv/P39iY+PR0SKjcXHxwdjDABnz551v77tttvw8/MDoFGjRtx0003u88uT2bNn079//zK1RZmJSKl/QkNDRf1+RUVFSVRU1BUrH5BZs2aJiMj48eNlxIgRIiJy5513yvbt20VE5LvvvpOYmBgRERk0aJB0795dcnJyREQkPDxcFi5cKCIiWVlZcvbsWfnqq69k6NChcunSJbl48aJ0795dvv32W9mzZ494eXnJhg0bRESkT58+MnPmTPd+rlu3Lt9+5077+vrKsWPHZOvWrRIXFyfnz58XEZHhw4fLjBkzCu2Tr6+vvPjiiyIiMmPGDOnevbuIiMTFxUlSUpKIiLz//vvSo0ePYucPGjRI5s+f7y73lltukezsbBERycjIEBGRsWPHyqRJk9zrFGyfU6dOyYULF0RE5Ouvv5ZevXqJiMj06dPl5ptvlvT0dDl37pwEBATk2/+i5LbJsWPHJDIyUjIzM0VE5OWXX5bx48e79/3NN98UEZF//OMf8vDDD4uIyIgRI+Sll14SEZEvv/xSADl27Jjs2bNHAgIC3HWsWLFCbrjhBtm3b59cvHhRIiIiZNWqVSIiMmbMGFm8eHGRsS1cuFBatWolN954o6xZs6bQ8u+//178/f3l4sWLHvcvLS1Nbr75ZnfbXS5gvRSRUyv3PYn6XalSpQp9+/YFYMCAAfTq1YvMzEzWrFlDnz593Ov9+uuv7td9+vTBy8uLM2fOcODAAXr27AlA9erVAat3tnTpUkJCQgCrR7Vjxw6aNWtGixYtcDqdAISGhpKWllbqWJctW8YPP/xA27ZtAcjKyuKmm24qct3cXlT//v156qmnAFi7di0LFy4EYODAgYwaNarY+QU5HA7i4+O57777uO+++zzGmds+AKdOnWLQoEHs2LEDYwwXLlxwr9e5c2fq1asHQK9evVi9ejVhYWEltsN3333H1q1b6dixIwDnz5+nffv27uW9evUCrPbN3a/Vq1fz6aefAtCtWzduvPFGj+WHh4fTpEkTAJxOJ2lpaXTq1IkJEyZ43KZnz5707NmTlStXMmbMGL755hv3skOHDjFw4EBmzJhBlSqeBwDmzJlD79693W13pWgCVpWWMYZLly5Rp04dUnM/hFyAt7d3sWWICM899xyPPvpovvlpaWlcf/317mkvLy+ysrJKHZuIMGjQIP73f/+3xHVzb4MLvr4cX3zxBStXruSzzz5j4sSJbN68ucj18rbPmDFjiImJ4dNPPyUtLY3oPB/oLhhXaeMUETp37szs2bOLXJ7bxl5eXuTk5JSqzKK2L08Zd9xxB7t37yY9PZ369etz+vRpunfvzsSJE4mIiCh22zlz5vCPf/yjzPGWlY4Bq0rj0qVLLFiwAICPP/6YTp06ccMNN9CiRQvmz58PWG/4jRs3Ftq2Vq1aNGnShEWLFgFWL/ncuXN07dqVDz74wD0ueeDAAY4ePVpsHLVq1eLMmTPFrhMbG8uCBQvcZZ04cYJffvmlyHVzn7jPnTvX3Tvs0KEDc+bMAeCjjz4iMjKy2Pl5Y7p06RL79u0jJiaGv/3tb5w6dYrMzMwS4z516hSNGzcGrHHfvL7++mtOnDhBVlYWixYtcvdoY2NjOXDggMcyIyIi+Pe//+0e2z579izbt2/3uD5Ax44dmTdvHmDdoWRkZBTax/LauXOne5z4xx9/5Ndff6VevXqcP3+enj178uCDD9K7d+9iy9i2bRsZGRn5evJXiiZgVWl4e3uTkpJCYGAgy5cv5/nnnwesRPT+++8THBxMQEAAixcvLnL7mTNn8uabb+JwOOjQoQOHDx+mS5cuPPDAA7Rv356goCB69+5d4ps89+FV7kO4orRu3ZoXX3yRLl264HA46Ny5M4cOHSpy3YyMDBwOB2+88Yb7KfuUKVOYPn06DoeDmTNn8sYbbxQ7v1+/fkyaNImQkBB27NjBgAEDCAoKIiQkhMcff5w6depwzz338Omnn7ofwhU0atQonnvuOUJCQgr1JMPDw7n//vtxOBzcf//9hIWFcenSJXbu3EndunU9tlWDBg1ISkqif//+OBwO2rdv737Y5snYsWNZunQpgYGBzJ8/n5tvvplatWpRr149OnbsSGBgoPshnCfPP/88S5YsKTT/k08+ITAwEKfTyYgRI5g7dy7GGObNm8fKlStJSkpyf8ws966qYFlz5syhX79+FXa3UhwjJTxVzLeyMceAoi/z9qkPXP4HLa8ujbloIUBFfe5H27j06gHewN4C86tjxbTfw3bljdcAuYnHG/AFiv+Qc8Wxq419RaRBwZllSsCVkTFmvYiU/LSgEtGYPdaRKSI+FVSWtnHp600AwkRkZBm3K1e8xhg/YB7WHfh54DERWVfWcsqjsp0X+hBOVRoVlXxV2YhIEpB0FevbgXW387unY8BKKWWT30IC/j+7AygHjfnKu9bihWsv5mstXqhkMV/zY8BKKXWt+i30gJVS6pqkCVgppWxyTSdgY0w3Y8zPxpidxpjRdsdTGsaYNGPMZmNMqjGmYr9QtYIYYz4wxhw1xvwnz7y6xpivjTE7XL89/wH/VeYh3nHGmAOudk41xvzBzhjzMsY0NcasMMZsNcZsMcY84ZpfmdvYU8yVuZ2rG2NSjDEbXTGPd81vYYz53pU35hpjrrMtxmt1DNgY4wVsBzpjfVB8HdBfRK7WB7rLxRiThvWZy0r7RwLGmDuATOBDEQl0zfs7cEJEXnZd7G4UkWftjDOXh3jHAZkiMtnO2IpijLkFuEVEfjTG1AJ+AO4DEqi8bewp5j9SedvZAN4ikmmMqQasBp4AngYWisgcY8y7wEYReceOGK/lHnA4sFNEdovIeWAO0MPmmH4TRGQlcKLA7B7ADNfrGVhvvkrBQ7yVlogcEpEfXa/PAD8Bjancbewp5krL9U2Qma7Jaq4fAe4EFrjm29rO13ICbgzsyzO9n0p+QrgIsNQY84Mx5hG7gymDhiKS+2UHh4GGdgZTSiONMZtcQxSV5nY+L2NMc6w/Sviea6SNC8QMlbidjTFexphU4CjwNbALOCkiuV+GYWveuJYT8LWqk4i0Ae4GRrhun68pri+YruxjV+8AtwJO4BDwir3hFGaM8QE+AZ4UkdN5l1XWNi4i5krdziJyUUScQBOsu2Z/m0PK51pOwAeApnmmm7jmVWoicsD1+yjwKdZJcS044hoHzB0PLP47HW0mIkdcb75LwDQqWTu7xiQ/AT4SkYWu2ZW6jYuKubK3cy4ROQmsANoDdYwxuV/DYGveuJYT8DrAz/VE8zqgH1D4++kqEWOMt+sBBsYYb6AL8J/it6o0lgCDXK8HAUV/J2QlkZvIXHpSidrZ9XDofeAnEXk1z6JK28aeYq7k7dzAGFPH9boG1gP7n7ASce6XAtvaztfspyAAXB95eR3wAj4QkYk2h1QsY0xLrF4vWF+E9HFljNkYMxuIxvrqviPAWGAR1jdYNcP6StI/ikilePDlId5orNtiAdKAR/OMr9rKGNMJWAVsBi65Zv8Za0y1sraxp5j7U3nb2YH1kM0Lq7M5T0QmuN6Hc4C6WF9/OkBEfvVc0hWM8VpOwEopdS27locglFLqmqYJWCmlbKIJWCmlbKIJWCmlbKIJWCmlbKIJWCmlbKIJWCmlbPL/AWnNsx+aSrDwAAAAAElFTkSuQmCC\n",
            "text/plain": [
              "<Figure size 432x288 with 1 Axes>"
            ]
          },
          "metadata": {
            "tags": [],
            "needs_background": "light"
          }
        },
        {
          "output_type": "stream",
          "text": [
            "beta 4 is in the CI of section 1 in question 1\n",
            "the length of the CI of section 1 in question 1 is:  0.9507247379296776\n",
            "\n",
            "\n",
            "beta 4 is in the CI of section 2 in question 1\n",
            "the length of the CI of section 2 in question 1 is:  0.9801566069228298\n",
            "\n",
            "\n",
            "beta 4 is in the CI of section 3 in question 1\n",
            "the length of the CI of section 3 in question 1 is:  0.9983714139192927\n",
            "\n",
            "\n",
            "beta 4 is in the CI of section 4 in question 1\n",
            "the length of the CI of section 4 in question 1 is:  0.9983714139192927\n",
            "\n",
            "\n"
          ],
          "name": "stdout"
        },
        {
          "output_type": "display_data",
          "data": {
            "image/png": "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\n",
            "text/plain": [
              "<Figure size 432x288 with 1 Axes>"
            ]
          },
          "metadata": {
            "tags": [],
            "needs_background": "light"
          }
        }
      ]
    },
    {
      "cell_type": "markdown",
      "metadata": {
        "id": "jNOh7eCpVHB4",
        "colab_type": "text"
      },
      "source": [
        "As we can see all the $\\beta_0 , \\beta_1, \\beta_2, \\beta_3, \\beta_4 $ are in the CI's.\n",
        "\n",
        "\n",
        "We can see that the first 2 CI have very similar length. That seems logic because both relay on normal approximation. \n",
        "\n",
        "The other 2 CI also have exactly similar length. That seems logic because they relay on the same precemtile (we can also get that from the formula).\n",
        "\n",
        "In general we can see that all of their length are very similar (for each beta). \n",
        "\n",
        "\n"
      ]
    },
    {
      "cell_type": "markdown",
      "metadata": {
        "id": "oFg84D1qWLOo",
        "colab_type": "text"
      },
      "source": [
        "###Q3"
      ]
    },
    {
      "cell_type": "markdown",
      "metadata": {
        "id": "ok53JT2kWQZE",
        "colab_type": "text"
      },
      "source": [
        "####A"
      ]
    },
    {
      "cell_type": "code",
      "metadata": {
        "id": "bBvKDPDDWPWa",
        "colab_type": "code",
        "colab": {
          "base_uri": "https://localhost:8080/",
          "height": 1000
        },
        "outputId": "0c2917e0-101f-4c47-dcec-b03020f5ef65"
      },
      "source": [
        "test = df.drop(n_200) #all the data but the 200 samples\n",
        "test = test.dropna()\n",
        "test = test.sample(100) #choos 100 samples for the test\n",
        "test_x = test[['male', 'BMI','TenYearCHD', 'heartRate']]\n",
        "test_x= sm.add_constant(test_x)\n",
        "test_y = test['totChol']\n",
        "test_y_np = test_y.to_numpy()\n",
        "np_test_x = test_x.to_numpy()\n",
        "y_pred_200 = results.predict(np_test_x)\n",
        "for i in range(len(np_test_x)):\n",
        "  print(\"for sample\", i, \"predicted y is: \",y_pred_200[i] )"
      ],
      "execution_count": 9,
      "outputs": [
        {
          "output_type": "stream",
          "text": [
            "for sample 0 predicted y is:  235.7176625042188\n",
            "for sample 1 predicted y is:  242.60593595060936\n",
            "for sample 2 predicted y is:  232.9925857551528\n",
            "for sample 3 predicted y is:  229.80540637098508\n",
            "for sample 4 predicted y is:  231.2593726730918\n",
            "for sample 5 predicted y is:  254.11358315421575\n",
            "for sample 6 predicted y is:  224.44472873375588\n",
            "for sample 7 predicted y is:  211.0305134954492\n",
            "for sample 8 predicted y is:  252.92154924704278\n",
            "for sample 9 predicted y is:  229.43233038748198\n",
            "for sample 10 predicted y is:  218.91354662916666\n",
            "for sample 11 predicted y is:  260.0262136285363\n",
            "for sample 12 predicted y is:  254.4467437802291\n",
            "for sample 13 predicted y is:  229.98353454239972\n",
            "for sample 14 predicted y is:  255.6353756431233\n",
            "for sample 15 predicted y is:  240.77851932391278\n",
            "for sample 16 predicted y is:  235.29040253496197\n",
            "for sample 17 predicted y is:  233.89572224342857\n",
            "for sample 18 predicted y is:  232.4522301306557\n",
            "for sample 19 predicted y is:  232.12474114202607\n",
            "for sample 20 predicted y is:  236.07691906876204\n",
            "for sample 21 predicted y is:  258.03974001063915\n",
            "for sample 22 predicted y is:  255.4381762914945\n",
            "for sample 23 predicted y is:  217.0483913163033\n",
            "for sample 24 predicted y is:  222.95272427261295\n",
            "for sample 25 predicted y is:  246.72299224236426\n",
            "for sample 26 predicted y is:  246.5388929606965\n",
            "for sample 27 predicted y is:  237.42083547238502\n",
            "for sample 28 predicted y is:  239.69413403924844\n",
            "for sample 29 predicted y is:  238.75370807411005\n",
            "for sample 30 predicted y is:  237.92607829134255\n",
            "for sample 31 predicted y is:  263.9599193207969\n",
            "for sample 32 predicted y is:  245.31441766365367\n",
            "for sample 33 predicted y is:  247.35242190519932\n",
            "for sample 34 predicted y is:  236.04689700843184\n",
            "for sample 35 predicted y is:  233.57100887186078\n",
            "for sample 36 predicted y is:  247.14705671842984\n",
            "for sample 37 predicted y is:  241.34064687746852\n",
            "for sample 38 predicted y is:  259.2175982113301\n",
            "for sample 39 predicted y is:  228.93741202142363\n",
            "for sample 40 predicted y is:  243.97362188500458\n",
            "for sample 41 predicted y is:  235.93967954166277\n",
            "for sample 42 predicted y is:  249.26111922448328\n",
            "for sample 43 predicted y is:  233.325297171862\n",
            "for sample 44 predicted y is:  242.31396344178086\n",
            "for sample 45 predicted y is:  241.87600467853812\n",
            "for sample 46 predicted y is:  251.44546600796536\n",
            "for sample 47 predicted y is:  235.29862518475548\n",
            "for sample 48 predicted y is:  223.0987105270272\n",
            "for sample 49 predicted y is:  247.79573477939178\n",
            "for sample 50 predicted y is:  235.6365590295442\n",
            "for sample 51 predicted y is:  249.34342059063553\n",
            "for sample 52 predicted y is:  235.5393097281521\n",
            "for sample 53 predicted y is:  230.43801347344683\n",
            "for sample 54 predicted y is:  264.4995736498598\n",
            "for sample 55 predicted y is:  240.69989199343064\n",
            "for sample 56 predicted y is:  237.00927212054165\n",
            "for sample 57 predicted y is:  232.61158659472565\n",
            "for sample 58 predicted y is:  220.02470166631713\n",
            "for sample 59 predicted y is:  229.77808505949938\n",
            "for sample 60 predicted y is:  246.94478467515617\n",
            "for sample 61 predicted y is:  228.0828352682572\n",
            "for sample 62 predicted y is:  232.1246662738087\n",
            "for sample 63 predicted y is:  241.82968705505564\n",
            "for sample 64 predicted y is:  215.5075001657036\n",
            "for sample 65 predicted y is:  236.6096509892045\n",
            "for sample 66 predicted y is:  249.13120392856922\n",
            "for sample 67 predicted y is:  240.14561274858158\n",
            "for sample 68 predicted y is:  244.17067150019867\n",
            "for sample 69 predicted y is:  245.6957911651676\n",
            "for sample 70 predicted y is:  217.42131756337167\n",
            "for sample 71 predicted y is:  252.297688871896\n",
            "for sample 72 predicted y is:  228.4268719061692\n",
            "for sample 73 predicted y is:  261.4505322113996\n",
            "for sample 74 predicted y is:  232.9869141177691\n",
            "for sample 75 predicted y is:  223.3412722688774\n",
            "for sample 76 predicted y is:  244.2197079260902\n",
            "for sample 77 predicted y is:  236.68530743114744\n",
            "for sample 78 predicted y is:  253.24596314574111\n",
            "for sample 79 predicted y is:  237.86956789783108\n",
            "for sample 80 predicted y is:  234.51218351917277\n",
            "for sample 81 predicted y is:  232.07637853009075\n",
            "for sample 82 predicted y is:  241.75446176885228\n",
            "for sample 83 predicted y is:  236.04462741532691\n",
            "for sample 84 predicted y is:  237.883611921443\n",
            "for sample 85 predicted y is:  239.28106783003824\n",
            "for sample 86 predicted y is:  244.88965189215386\n",
            "for sample 87 predicted y is:  230.88086771042165\n",
            "for sample 88 predicted y is:  230.25166265223865\n",
            "for sample 89 predicted y is:  259.44294242483545\n",
            "for sample 90 predicted y is:  222.47395173327217\n",
            "for sample 91 predicted y is:  248.06401262566544\n",
            "for sample 92 predicted y is:  248.84978047729194\n",
            "for sample 93 predicted y is:  209.33571291351117\n",
            "for sample 94 predicted y is:  224.14438383869916\n",
            "for sample 95 predicted y is:  241.74661346014557\n",
            "for sample 96 predicted y is:  216.28594378614486\n",
            "for sample 97 predicted y is:  245.51933364111903\n",
            "for sample 98 predicted y is:  236.9990974040772\n",
            "for sample 99 predicted y is:  260.2661968764986\n"
          ],
          "name": "stdout"
        }
      ]
    },
    {
      "cell_type": "markdown",
      "metadata": {
        "id": "wfBKBlfyWoi2",
        "colab_type": "text"
      },
      "source": [
        "###B + C"
      ]
    },
    {
      "cell_type": "code",
      "metadata": {
        "id": "oW60pypifAiL",
        "colab_type": "code",
        "colab": {
          "base_uri": "https://localhost:8080/",
          "height": 1000
        },
        "outputId": "c5faa9a5-3f1d-49d5-fceb-773d269f6e6d"
      },
      "source": [
        "cnt =0\n",
        "length = 0\n",
        "\n",
        "for i in range(100):\n",
        "  y_pred_new = []\n",
        "  for b in range(400):\n",
        "    n_b = np.random.choice(n_200,200)\n",
        "    df_b = df_200.loc[n_b]\n",
        "    df_b = df_b[['male', 'BMI','TenYearCHD', 'heartRate','totChol']].dropna()\n",
        "    data_b = df_b[['male', 'BMI','TenYearCHD', 'heartRate']].to_numpy()\n",
        "    data_b = sm.add_constant(data_b)\n",
        "    y_b = df_b['totChol']\n",
        "    model_b = OLS(y_b,data_b)\n",
        "    results_b = model_b.fit()\n",
        "    y_pred_new.append(results_b.predict(np_test_x[i])[0])\n",
        "\n",
        "  se_i = calc_std(np.array(y_pred_new))\n",
        "  a = y_pred_200[i] - stats.norm.ppf(0.975)*se_i\n",
        "  b = y_pred_200[i] + stats.norm.ppf(0.975)*se_i\n",
        "\n",
        "  print(\"the CI for E[Y|X] for sample precent\",i ,\"is: \", [a,b])\n",
        "  if test_y_np[i] >= a and test_y_np[i] <= b :\n",
        "    cnt +=1\n",
        "  length += b-a\n",
        "  "
      ],
      "execution_count": 10,
      "outputs": [
        {
          "output_type": "stream",
          "text": [
            "the CI for E[Y|X] for sample precent 0 is:  [226.73297804917374, 244.70234695926385]\n",
            "the CI for E[Y|X] for sample precent 1 is:  [234.08547760930682, 251.1263942919119]\n",
            "the CI for E[Y|X] for sample precent 2 is:  [224.14284548507956, 241.84232602522601]\n",
            "the CI for E[Y|X] for sample precent 3 is:  [221.60426288128286, 238.0065498606873]\n",
            "the CI for E[Y|X] for sample precent 4 is:  [217.355020372, 245.1637249741836]\n",
            "the CI for E[Y|X] for sample precent 5 is:  [240.29712101251042, 267.9300452959211]\n",
            "the CI for E[Y|X] for sample precent 6 is:  [215.67870839428878, 233.21074907322298]\n",
            "the CI for E[Y|X] for sample precent 7 is:  [199.11869372180854, 222.9423332690899]\n",
            "the CI for E[Y|X] for sample precent 8 is:  [241.62179599337492, 264.22130250071064]\n",
            "the CI for E[Y|X] for sample precent 9 is:  [221.0187865212096, 237.84587425375437]\n",
            "the CI for E[Y|X] for sample precent 10 is:  [209.20762921024001, 228.6194640480933]\n",
            "the CI for E[Y|X] for sample precent 11 is:  [245.8914475935802, 274.1609796634924]\n",
            "the CI for E[Y|X] for sample precent 12 is:  [243.06657802940904, 265.8269095310491]\n",
            "the CI for E[Y|X] for sample precent 13 is:  [218.85834347255744, 241.108725612242]\n",
            "the CI for E[Y|X] for sample precent 14 is:  [239.61412502804652, 271.65662625820005]\n",
            "the CI for E[Y|X] for sample precent 15 is:  [229.07874483441103, 252.47829381341452]\n",
            "the CI for E[Y|X] for sample precent 16 is:  [225.78000314911705, 244.8008019208069]\n",
            "the CI for E[Y|X] for sample precent 17 is:  [224.5439889028319, 243.24745558402523]\n",
            "the CI for E[Y|X] for sample precent 18 is:  [220.1758336451817, 244.72862661612967]\n",
            "the CI for E[Y|X] for sample precent 19 is:  [223.13360991446427, 241.11587236958786]\n",
            "the CI for E[Y|X] for sample precent 20 is:  [225.5089649396668, 246.64487319785727]\n",
            "the CI for E[Y|X] for sample precent 21 is:  [241.77520255970256, 274.30427746157574]\n",
            "the CI for E[Y|X] for sample precent 22 is:  [235.2705111140755, 275.6058414689135]\n",
            "the CI for E[Y|X] for sample precent 23 is:  [206.392575476374, 227.70420715623263]\n",
            "the CI for E[Y|X] for sample precent 24 is:  [211.6713710630684, 234.23407748215752]\n",
            "the CI for E[Y|X] for sample precent 25 is:  [233.66797709069434, 259.7780073940342]\n",
            "the CI for E[Y|X] for sample precent 26 is:  [235.56366127950017, 257.51412464189286]\n",
            "the CI for E[Y|X] for sample precent 27 is:  [227.54151160299614, 247.3001593417739]\n",
            "the CI for E[Y|X] for sample precent 28 is:  [230.60339040669768, 248.7848776717992]\n",
            "the CI for E[Y|X] for sample precent 29 is:  [228.67830099315606, 248.82911515506404]\n",
            "the CI for E[Y|X] for sample precent 30 is:  [228.03064803518058, 247.82150854750452]\n",
            "the CI for E[Y|X] for sample precent 31 is:  [248.07532676755514, 279.84451187403874]\n",
            "the CI for E[Y|X] for sample precent 32 is:  [235.98495259102444, 254.6438827362829]\n",
            "the CI for E[Y|X] for sample precent 33 is:  [229.55855625687536, 265.1462875535233]\n",
            "the CI for E[Y|X] for sample precent 34 is:  [219.75445259445686, 252.33934142240682]\n",
            "the CI for E[Y|X] for sample precent 35 is:  [223.61521884630497, 243.5267988974166]\n",
            "the CI for E[Y|X] for sample precent 36 is:  [234.26867200300123, 260.0254414338584]\n",
            "the CI for E[Y|X] for sample precent 37 is:  [233.60349950536946, 249.07779424956757]\n",
            "the CI for E[Y|X] for sample precent 38 is:  [238.00860097963823, 280.42659544302194]\n",
            "the CI for E[Y|X] for sample precent 39 is:  [219.17467966277823, 238.70014438006902]\n",
            "the CI for E[Y|X] for sample precent 40 is:  [232.20124065065218, 255.74600311935697]\n",
            "the CI for E[Y|X] for sample precent 41 is:  [223.33436391766688, 248.54499516565866]\n",
            "the CI for E[Y|X] for sample precent 42 is:  [231.39234266803442, 267.12989578093215]\n",
            "the CI for E[Y|X] for sample precent 43 is:  [224.48924190146164, 242.16135244226234]\n",
            "the CI for E[Y|X] for sample precent 44 is:  [233.83605234865323, 250.7918745349085]\n",
            "the CI for E[Y|X] for sample precent 45 is:  [233.35365780735276, 250.3983515497235]\n",
            "the CI for E[Y|X] for sample precent 46 is:  [239.1263976491117, 263.764534366819]\n",
            "the CI for E[Y|X] for sample precent 47 is:  [226.39583487986357, 244.2014154896474]\n",
            "the CI for E[Y|X] for sample precent 48 is:  [211.6836428639936, 234.5137781900608]\n",
            "the CI for E[Y|X] for sample precent 49 is:  [233.8867841318584, 261.70468542692515]\n",
            "the CI for E[Y|X] for sample precent 50 is:  [226.64138189118657, 244.63173616790183]\n",
            "the CI for E[Y|X] for sample precent 51 is:  [224.9014666151677, 273.78537456610337]\n",
            "the CI for E[Y|X] for sample precent 52 is:  [226.45103280105457, 244.62758665524962]\n",
            "the CI for E[Y|X] for sample precent 53 is:  [221.68986490193083, 239.18616204496283]\n",
            "the CI for E[Y|X] for sample precent 54 is:  [248.32079809058973, 280.6783492091299]\n",
            "the CI for E[Y|X] for sample precent 55 is:  [232.0815916412632, 249.31819234559808]\n",
            "the CI for E[Y|X] for sample precent 56 is:  [221.54504157050425, 252.47350267057905]\n",
            "the CI for E[Y|X] for sample precent 57 is:  [224.07229045207103, 241.15088273738027]\n",
            "the CI for E[Y|X] for sample precent 58 is:  [210.46461834603843, 229.58478498659582]\n",
            "the CI for E[Y|X] for sample precent 59 is:  [209.2969365126889, 250.25923360630986]\n",
            "the CI for E[Y|X] for sample precent 60 is:  [238.22923724953034, 255.660332100782]\n",
            "the CI for E[Y|X] for sample precent 61 is:  [208.3006633082573, 247.86500722825713]\n",
            "the CI for E[Y|X] for sample precent 62 is:  [222.5935318713937, 241.65580067622372]\n",
            "the CI for E[Y|X] for sample precent 63 is:  [222.8946369918552, 260.76473711825605]\n",
            "the CI for E[Y|X] for sample precent 64 is:  [204.2238224397079, 226.79117789169928]\n",
            "the CI for E[Y|X] for sample precent 65 is:  [227.14453257876252, 246.0747693996465]\n",
            "the CI for E[Y|X] for sample precent 66 is:  [230.93786452713042, 267.32454333000805]\n",
            "the CI for E[Y|X] for sample precent 67 is:  [229.2086528198656, 251.08257267729758]\n",
            "the CI for E[Y|X] for sample precent 68 is:  [231.47419479270505, 256.86714820769225]\n",
            "the CI for E[Y|X] for sample precent 69 is:  [236.92301453992877, 254.46856779040644]\n",
            "the CI for E[Y|X] for sample precent 70 is:  [206.73159058429485, 228.1110445424485]\n",
            "the CI for E[Y|X] for sample precent 71 is:  [239.0808094321657, 265.5145683116263]\n",
            "the CI for E[Y|X] for sample precent 72 is:  [219.22224077881347, 237.63150303352492]\n",
            "the CI for E[Y|X] for sample precent 73 is:  [242.70894291666383, 280.1921215061354]\n",
            "the CI for E[Y|X] for sample precent 74 is:  [221.272677036776, 244.70115119876218]\n",
            "the CI for E[Y|X] for sample precent 75 is:  [210.58004646643414, 236.10249807132064]\n",
            "the CI for E[Y|X] for sample precent 76 is:  [236.30042800117988, 252.1389878510005]\n",
            "the CI for E[Y|X] for sample precent 77 is:  [227.6188480493719, 245.75176681292297]\n",
            "the CI for E[Y|X] for sample precent 78 is:  [240.79732854292496, 265.69459774855727]\n",
            "the CI for E[Y|X] for sample precent 79 is:  [228.98603665434055, 246.7530991413216]\n",
            "the CI for E[Y|X] for sample precent 80 is:  [223.8042523777663, 245.22011466057924]\n",
            "the CI for E[Y|X] for sample precent 81 is:  [223.21324683457698, 240.93951022560452]\n",
            "the CI for E[Y|X] for sample precent 82 is:  [232.05056066731333, 251.45836287039123]\n",
            "the CI for E[Y|X] for sample precent 83 is:  [226.6249742856879, 245.46428054496593]\n",
            "the CI for E[Y|X] for sample precent 84 is:  [221.00067453889642, 254.76654930398956]\n",
            "the CI for E[Y|X] for sample precent 85 is:  [226.64218886745667, 251.9199467926198]\n",
            "the CI for E[Y|X] for sample precent 86 is:  [227.38865722043204, 262.3906465638757]\n",
            "the CI for E[Y|X] for sample precent 87 is:  [212.30503953285907, 249.45669588798424]\n",
            "the CI for E[Y|X] for sample precent 88 is:  [220.86560470949425, 239.63772059498305]\n",
            "the CI for E[Y|X] for sample precent 89 is:  [239.11465351583902, 279.77123133383185]\n",
            "the CI for E[Y|X] for sample precent 90 is:  [213.23387499323727, 231.71402847330708]\n",
            "the CI for E[Y|X] for sample precent 91 is:  [238.5287509435443, 257.5992743077866]\n",
            "the CI for E[Y|X] for sample precent 92 is:  [229.6768486428543, 268.0227123117296]\n",
            "the CI for E[Y|X] for sample precent 93 is:  [195.62181040806757, 223.04961541895477]\n",
            "the CI for E[Y|X] for sample precent 94 is:  [214.74632786952523, 233.54243980787308]\n",
            "the CI for E[Y|X] for sample precent 95 is:  [228.53190386234309, 254.96132305794805]\n",
            "the CI for E[Y|X] for sample precent 96 is:  [205.79761464592715, 226.77427292636256]\n",
            "the CI for E[Y|X] for sample precent 97 is:  [228.35047961442575, 262.6881876678123]\n",
            "the CI for E[Y|X] for sample precent 98 is:  [227.5816274909402, 246.41656731721417]\n",
            "the CI for E[Y|X] for sample precent 99 is:  [244.75257839294275, 275.7798153600545]\n"
          ],
          "name": "stdout"
        }
      ]
    },
    {
      "cell_type": "code",
      "metadata": {
        "id": "YMca8bjkdlXm",
        "colab_type": "code",
        "colab": {
          "base_uri": "https://localhost:8080/",
          "height": 51
        },
        "outputId": "a192000a-ec53-4158-894c-1e5ec2f60d06"
      },
      "source": [
        "precent = cnt\n",
        "length = length/100\n",
        "\n",
        "print(\"the precent of CI that contains the real value is: \", precent,'%' )\n",
        "print('the avarge length of the CI is: ', length)"
      ],
      "execution_count": 11,
      "outputs": [
        {
          "output_type": "stream",
          "text": [
            "the precent of CI that contains the real value is:  16 %\n",
            "the avarge length of the CI is:  24.363798323265005\n"
          ],
          "name": "stdout"
        }
      ]
    },
    {
      "cell_type": "code",
      "metadata": {
        "id": "6L5CG8Yeb9Xl",
        "colab_type": "code",
        "colab": {
          "base_uri": "https://localhost:8080/",
          "height": 313
        },
        "outputId": "7682216a-8a28-4b69-a413-e6660d32af98"
      },
      "source": [
        "e = [y_true- y_pred  for y_true, y_pred in zip(test_y_np, y_pred_200)]\n",
        "e_abs = np.absolute(np.array(e))\n",
        "\n",
        "avg_e = np.mean(e_abs)\n",
        "\n",
        "plt.plot(y_pred_200, e, 'o', color='green')\n",
        "plt.xlabel(\"Y_pred\")\n",
        "plt.ylabel(\"e=y_true- y_pred\")\n",
        "plt.plot(y_pred_200, np.zeros_like(e), color = 'black')\n",
        "plt.title('residual graph')\n",
        "\n",
        "print('the avrage of residuals: ', avg_e )"
      ],
      "execution_count": 12,
      "outputs": [
        {
          "output_type": "stream",
          "text": [
            "the avrage of residuals:  31.561036550424795\n"
          ],
          "name": "stdout"
        },
        {
          "output_type": "display_data",
          "data": {
            "image/png": "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\n",
            "text/plain": [
              "<Figure size 432x288 with 1 Axes>"
            ]
          },
          "metadata": {
            "tags": [],
            "needs_background": "light"
          }
        }
      ]
    },
    {
      "cell_type": "markdown",
      "metadata": {
        "id": "Q8rW6eM2d4cw",
        "colab_type": "text"
      },
      "source": [
        "As we can see in the graph the avarge difference between the real value and the predicted value is around 31 and the avarge size of the CI is around 25. \n",
        "we built the CI according to normal approximation when calculating the se with bootstrap - with this method our predicted y according to the 200 samples is in the middle of the CI, and that's why most of the real value are not in the CI and that can explain why we got low precent."
      ]
    },
    {
      "cell_type": "markdown",
      "metadata": {
        "id": "yKr_eMScXYjo",
        "colab_type": "text"
      },
      "source": [
        "###D\n",
        "\n",
        "In order to calculate CI for $Y_{new}$ we can estimate the S.E by bootstrap algorithem. \n",
        "\n",
        "The only difference from CI of $E[Y_{new}|X_{new}]$ is that we need to add the variance of the noise. \n",
        "\n",
        " In each iteration 1..B:\n",
        "\n",
        " (1) sample 200 samples from our 200-table. we marke $X^b$ as the matrix of the data in the b iteration. \n",
        " \n",
        " (2) predict $Y_{NEW}^b $ acoording to $X^b$ (calculate the beta's $X^b$ samples)\n",
        " \n",
        "\n",
        "calculate the S.E boost : $\\hat{S.E_{boost}} = \\sqrt{\\hat{var}(Y_{new}|X_{new})+\\hat{\\sigma}_{\\epsilon}^2}$ \n",
        "\n",
        "where $\\hat{\\sigma}_{\\epsilon}^2$ is the estimator for the variance of the noise which is calculated by $\\frac{SS_R}{n-p}$ on the original samples and $\\hat{var}(Y_{new}|X_{new})$ is based on bootstrap.\n",
        " \n",
        "\n",
        " the CI is: $ \\hat{Y_{new}} \\pm Z_{\\alpha/2}*S.E_{boost} $  \n"
      ]
    },
    {
      "cell_type": "markdown",
      "metadata": {
        "id": "rEGSm6DrDPsn",
        "colab_type": "text"
      },
      "source": [
        "##Part 2"
      ]
    },
    {
      "cell_type": "markdown",
      "metadata": {
        "id": "GlMW_3_4DZD_",
        "colab_type": "text"
      },
      "source": [
        "The research question from part 2 :\n",
        "\n",
        "Does avarge heart rate changes between smokers and not smokers?\n",
        "\n"
      ]
    },
    {
      "cell_type": "markdown",
      "metadata": {
        "id": "hdfBNLBeEPmC",
        "colab_type": "text"
      },
      "source": [
        "###Q1\n",
        "The research question:\n",
        "\n",
        "Dose the distribution of the avarge heart rate in smoker($X_1$) is larger(Stochastic dominance) then the  distribution of the avarge heart rate in non smoker($X_2$)\n",
        "\n",
        "\n",
        "in terms of stochastic dominate: \n",
        "\n",
        "we will want to cheack if: $X_2  \\prec X_1$"
      ]
    },
    {
      "cell_type": "markdown",
      "metadata": {
        "id": "phqIFMLOFhlN",
        "colab_type": "text"
      },
      "source": [
        "###Q2"
      ]
    },
    {
      "cell_type": "code",
      "metadata": {
        "id": "GM8EPMi3XYUW",
        "colab_type": "code",
        "colab": {}
      },
      "source": [
        "import pandas as pd\n",
        "import numpy as np\n",
        "import random\n",
        "from scipy import stats\n",
        "import math\n",
        "import matplotlib.pyplot as plt\n",
        "import scipy\n",
        "\n",
        "df = pd.read_csv(\"/content/framingham_heart_disease.csv\")\n",
        "\n",
        "#choose 200 samples randomly.\n",
        "random.seed(1)\n",
        "n_200 = random.sample(range(0,len(df)),200)\n",
        "df_200= df.loc[n_200]"
      ],
      "execution_count": 13,
      "outputs": []
    },
    {
      "cell_type": "markdown",
      "metadata": {
        "id": "Ni5typ1oGK1n",
        "colab_type": "text"
      },
      "source": [
        "###Q3\n",
        "\n"
      ]
    },
    {
      "cell_type": "markdown",
      "metadata": {
        "id": "fwmOFOSgGS5N",
        "colab_type": "text"
      },
      "source": [
        "####A"
      ]
    },
    {
      "cell_type": "markdown",
      "metadata": {
        "id": "iaA_FukfHmfY",
        "colab_type": "text"
      },
      "source": [
        "notice - $\\mu_1$ is for the non - smokers and $\\mu_2$ is for smokers "
      ]
    },
    {
      "cell_type": "code",
      "metadata": {
        "id": "Yq2eSWoBGJqQ",
        "colab_type": "code",
        "colab": {
          "base_uri": "https://localhost:8080/",
          "height": 67
        },
        "outputId": "31158530-93a1-47b0-bea1-513dc174ba01"
      },
      "source": [
        "df_new = df_200[[\"heartRate\",\"currentSmoker\"]]\n",
        "\n",
        "#creat table for non smokers (0) and smokers (1)\n",
        "df_new_0 = df_new.loc[df_new['currentSmoker']==0].dropna()\n",
        "df_new_1 = df_new.loc[df_new['currentSmoker']==1].dropna()\n",
        "\n",
        "#calculate the mean for each category\n",
        "mean_0 =df_new_0[\"heartRate\"].mean()\n",
        "mean_1 =df_new_1[\"heartRate\"].mean()\n",
        "\n",
        "print(\"mean heart rate mean for non smokers (mu_1): \" + str(mean_0))\n",
        "print(\"mean heart rate mean for smokers (mu_2): \" + str(mean_1))\n",
        "print(\"delta hat is: \", str(mean_0-mean_1))\n"
      ],
      "execution_count": 14,
      "outputs": [
        {
          "output_type": "stream",
          "text": [
            "mean heart rate mean for non smokers (mu_1): 74.45360824742268\n",
            "mean heart rate mean for smokers (mu_2): 75.99029126213593\n",
            "delta hat is:  -1.5366830147132475\n"
          ],
          "name": "stdout"
        }
      ]
    },
    {
      "cell_type": "code",
      "metadata": {
        "id": "R19gQGOzcYPs",
        "colab_type": "code",
        "colab": {
          "base_uri": "https://localhost:8080/",
          "height": 461
        },
        "outputId": "1ece8d93-8329-4da0-8a6a-83f99beedde7"
      },
      "source": [
        "fig, axes = plt.subplots(1, 2, figsize = (12,7))\n",
        "\n",
        "df_new_0.hist('heartRate', ax=axes[0] ,color = 'royalblue' )\n",
        "\n",
        "df_new_1.hist('heartRate', ax=axes[1], color = 'slategray')\n",
        "axes[0].set_title('non-smokers heartRate histogram')\n",
        "axes[1].set_title('smokers heartRate histogram')"
      ],
      "execution_count": 15,
      "outputs": [
        {
          "output_type": "execute_result",
          "data": {
            "text/plain": [
              "Text(0.5, 1.0, 'smokers heartRate histogram')"
            ]
          },
          "metadata": {
            "tags": []
          },
          "execution_count": 15
        },
        {
          "output_type": "display_data",
          "data": {
            "image/png": "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\n",
            "text/plain": [
              "<Figure size 864x504 with 2 Axes>"
            ]
          },
          "metadata": {
            "tags": [],
            "needs_background": "light"
          }
        }
      ]
    },
    {
      "cell_type": "markdown",
      "metadata": {
        "id": "YRva7mRWIgTE",
        "colab_type": "text"
      },
      "source": [
        "As we can see the heartRate of smokers and non-smokers is from normal distribution, so we assume normal dustribution model.\n",
        "\n",
        "We will show that $\\hat{\\delta}$ is MLE:\n",
        "\n",
        "$\\bar{X_n^0} \\approx N(\\mu_1 , \\frac{\\sigma_1^2}{n})  $ \n",
        "\n",
        "$\\bar{X_n^1} \\approx N(\\mu_2 , \\frac{\\sigma_2^2}{m})  $ \n",
        "\n",
        "we will define $\\hat{\\delta} = \\bar{X_n^0}- \\bar{X_n^1} \\approx N(\\delta = \\mu_1-\\mu_2, \\frac{\\sigma_1^2}{n}+\\frac{\\sigma_2^2}{m}) $\n",
        "\n",
        "$ F(\\delta)=L_n(\\hat{\\delta}) $\n",
        "\n",
        "$ f(\\delta) = log(F(\\delta)) $\n",
        "\n",
        "we will find $ \\hat{\\delta}^{MLE} $ By deriving the function $f(\\delta) $ and Comparison to 0. \n",
        "\n",
        "And we will find out that $\\hat{\\delta} =\\hat{\\delta}^{MLE} $\n",
        "\n",
        "in addition, MLE for $\\mu$ is $\\hat{\\mu_1} - \\hat{\\mu_2} = \\hat{\\delta}$ from the equviariance property of MLE as $\\hat{\\mu_1}$ MLE for $\\mu_1$ and $\\hat{\\mu_2}$ MLE for $\\mu_2$ and they are seperable.\n"
      ]
    },
    {
      "cell_type": "markdown",
      "metadata": {
        "id": "tHC0XWe2KIUY",
        "colab_type": "text"
      },
      "source": [
        "####B \n",
        "\n",
        "Because $\\hat{\\delta}$ is MLE, and $\\mu_1, \\mu_2$ are MLE : \n",
        "$\\hat{\\delta} \\approx N(\\bar{X_1} - \\bar{X_2},\\hat{{\\sigma_1^2}/n} +\\hat{\\sigma_2^2}/m ) $\n",
        "\n",
        "we will calculate the CI according to this"
      ]
    },
    {
      "cell_type": "code",
      "metadata": {
        "id": "hP_2zkQVKHg2",
        "colab_type": "code",
        "colab": {
          "base_uri": "https://localhost:8080/",
          "height": 34
        },
        "outputId": "80be97a7-0620-4c3a-ff74-b58e44b694a7"
      },
      "source": [
        "var_0 = df_new_0[\"heartRate\"].var() / len(df_new_0)\n",
        "var_1 = df_new_1[\"heartRate\"].var() / len(df_new_1)\n",
        "\n",
        "std = np.sqrt(var_1 + var_0)\n",
        "mean = mean_0 - mean_1\n",
        "\n",
        "alpha = 0.05\n",
        "quantile = stats.norm.ppf(1 - (alpha/2))\n",
        "\n",
        "#calculate the confidence interval \n",
        "CI_delta = [mean - quantile*std , mean + quantile*std ]\n",
        "\n",
        "print(\"the CI for delta is: \", CI_delta)\n"
      ],
      "execution_count": 16,
      "outputs": [
        {
          "output_type": "stream",
          "text": [
            "the CI for delta is:  [-4.877283019658409, 1.8039169902319143]\n"
          ],
          "name": "stdout"
        }
      ]
    },
    {
      "cell_type": "markdown",
      "metadata": {
        "id": "687yTfhVNs7o",
        "colab_type": "text"
      },
      "source": [
        "####C"
      ]
    },
    {
      "cell_type": "code",
      "metadata": {
        "id": "qF1UlRsGNslA",
        "colab_type": "code",
        "colab": {
          "base_uri": "https://localhost:8080/",
          "height": 34
        },
        "outputId": "0c27e196-d5f7-42bc-fff1-9745da05f74d"
      },
      "source": [
        "# we will calculte the mean for smokers and non smokers in \n",
        "df_full = df[[\"heartRate\",\"currentSmoker\"]]\n",
        "\n",
        "#creat table for non smokers (0) and smokers (1)\n",
        "df_full_0 = df_full.loc[df_full['currentSmoker']==0].dropna()\n",
        "df_full_1 = df_full.loc[df_full['currentSmoker']==1].dropna()\n",
        "\n",
        "#calculate the mean for each category\n",
        "mean_0_full =df_full_0[\"heartRate\"].mean()\n",
        "mean_1_full =df_full_1[\"heartRate\"].mean()\n",
        "\n",
        "print(\"delta is: \", str(mean_0_full-mean_1_full))\n"
      ],
      "execution_count": 17,
      "outputs": [
        {
          "output_type": "stream",
          "text": [
            "delta is:  -1.499780718956572\n"
          ],
          "name": "stdout"
        }
      ]
    },
    {
      "cell_type": "markdown",
      "metadata": {
        "id": "P1h_4iJXPaB8",
        "colab_type": "text"
      },
      "source": [
        "as we can see the delta value is the CI we calculate before. "
      ]
    },
    {
      "cell_type": "markdown",
      "metadata": {
        "id": "uPQLXhRSPpTm",
        "colab_type": "text"
      },
      "source": [
        "####D"
      ]
    },
    {
      "cell_type": "markdown",
      "metadata": {
        "id": "8wtF77iNQTuZ",
        "colab_type": "text"
      },
      "source": [
        "Vald Test:\n",
        "\n",
        "$H_0 : \\mu_1 - \\mu_2 \\le 0 $\n",
        "\n",
        "$ H_1: \\mu_1 - \\mu_2 > 0 $\n",
        "\n",
        "$\n",
        "T = \\frac{\\bar{X}1 - \\bar{X}_2}{\\sqrt{\\frac{S{X_1}^2}\n",
        "{n_1}+\\frac{S_{X_2}^2}{n_2}}}\n",
        "$\n",
        "\n",
        "Reject if $ T > z_{1-\\alpha }$"
      ]
    },
    {
      "cell_type": "code",
      "metadata": {
        "id": "Um95s-tAPYXK",
        "colab_type": "code",
        "colab": {
          "base_uri": "https://localhost:8080/",
          "height": 51
        },
        "outputId": "0635798b-96d1-48f6-84d7-31e22577ea4d"
      },
      "source": [
        "#calculate vald test\n",
        "alpha = 0.05\n",
        "quantile = stats.norm.ppf((1-alpha)) \n",
        "\n",
        "sp = np.sqrt(var_0 + var_1)\n",
        "T_vald = mean/ sp\n",
        "\n",
        "if T_vald > quantile:\n",
        "  print(\"reject H_0\")\n",
        "else:\n",
        "  print (\"don't reject H_0\")\n",
        "\n",
        "print(\"Ts: \" + str(T_vald))"
      ],
      "execution_count": 18,
      "outputs": [
        {
          "output_type": "stream",
          "text": [
            "don't reject H_0\n",
            "Ts: -0.9015875471573678\n"
          ],
          "name": "stdout"
        }
      ]
    },
    {
      "cell_type": "code",
      "metadata": {
        "id": "ScT-FrAkTqrj",
        "colab_type": "code",
        "colab": {}
      },
      "source": [
        "#creat dict: {heartRate : #it apears in the 200 smaples}\n",
        "df = df_200['heartRate'].nunique()\n",
        "heartRate = sorted(list(df_200['heartRate']))\n",
        "heartRate_dict = dict()\n",
        "\n",
        "for item in heartRate:\n",
        "  if item in heartRate_dict.keys():\n",
        "    heartRate_dict[item] +=1\n",
        "  else:\n",
        "    heartRate_dict[item] =1\n"
      ],
      "execution_count": 19,
      "outputs": []
    },
    {
      "cell_type": "markdown",
      "metadata": {
        "id": "TAxaGLyXlG6Q",
        "colab_type": "text"
      },
      "source": [
        "$H_0 : F_{X_1} = F_{X_2} $\n",
        "\n",
        "$H_1 : F_{X_2} \\prec F_{X_1}$\n",
        "\n",
        "$T^{obs} = \\bar{X_1}-\\bar{X_2}$"
      ]
    },
    {
      "cell_type": "code",
      "metadata": {
        "id": "tcGovphpRiOm",
        "colab_type": "code",
        "colab": {
          "base_uri": "https://localhost:8080/",
          "height": 51
        },
        "outputId": "1539a870-7dd6-4bbf-853e-211e64a1a408"
      },
      "source": [
        "#permutation test\n",
        "delta = mean_0 - mean_1 \n",
        "cnt = 0\n",
        "\n",
        "permute_df =  df_200[[\"heartRate\",\"currentSmoker\"]].dropna()\n",
        "permute_df = permute_df.copy()\n",
        "\n",
        "for b in range(400):\n",
        "  permute_smokers = list(permute_df['currentSmoker'])\n",
        "  np.random.shuffle(permute_smokers)\n",
        "  permute_df['currentSmoker'] = permute_smokers\n",
        "  df_b_0 = permute_df.loc[permute_df['currentSmoker']==0]\n",
        "  df_b_1 = permute_df.loc[permute_df['currentSmoker']==1]\n",
        "\n",
        "  # calculate the mean for each category\n",
        "  mean_0_b =df_b_0[\"heartRate\"].mean()\n",
        "  mean_1_b =df_b_1[\"heartRate\"].mean()\n",
        "  delta_b = mean_0_b- mean_1_b \n",
        "  if delta_b >= delta:\n",
        "    cnt +=1\n",
        "\n",
        "pvalue = cnt/400\n",
        "\n",
        "if pvalue > 0.05:\n",
        "  print(\"don't reject H_0\")    \n",
        "else:\n",
        "  print(\"reject H_0\")\n",
        "\n",
        "print('the pvalue is:', pvalue )"
      ],
      "execution_count": 20,
      "outputs": [
        {
          "output_type": "stream",
          "text": [
            "don't reject H_0\n",
            "the pvalue is: 0.8375\n"
          ],
          "name": "stdout"
        }
      ]
    },
    {
      "cell_type": "markdown",
      "metadata": {
        "id": "k8XXNIJVYJxb",
        "colab_type": "text"
      },
      "source": [
        "###Q4"
      ]
    },
    {
      "cell_type": "markdown",
      "metadata": {
        "id": "LUaB33X3YNU4",
        "colab_type": "text"
      },
      "source": [
        "####A"
      ]
    },
    {
      "cell_type": "code",
      "metadata": {
        "id": "UJriNEa6YM_Q",
        "colab_type": "code",
        "colab": {
          "base_uri": "https://localhost:8080/",
          "height": 67
        },
        "outputId": "7548f711-f4ad-4df6-9f9a-84e5c48de715"
      },
      "source": [
        "median_0 =df_new_0[\"heartRate\"].median()\n",
        "median_1 =df_new_1[\"heartRate\"].median()\n",
        "\n",
        "print(\"mean heart rate mean for non smokers: \" + str(median_0))\n",
        "print(\"mean heart rate mean for smokers: \" + str(median_1))\n",
        "print(\"delta hat is: \", str(median_0- median_1))\n"
      ],
      "execution_count": 21,
      "outputs": [
        {
          "output_type": "stream",
          "text": [
            "mean heart rate mean for non smokers: 75.0\n",
            "mean heart rate mean for smokers: 73.0\n",
            "delta hat is:  2.0\n"
          ],
          "name": "stdout"
        }
      ]
    },
    {
      "cell_type": "markdown",
      "metadata": {
        "id": "PbSsF-VLj-KI",
        "colab_type": "text"
      },
      "source": [
        "As we saw in Q3 section A - the assumption of Normal distribution holds. In symnetrical distribution, the median is equal to the mean. therfore as we know the MLE for the median is suppose to be equal the the MLE of the mean and as we know the MLE is the average. **Therefore the median is not MLE**."
      ]
    },
    {
      "cell_type": "markdown",
      "metadata": {
        "id": "3PvtaG4Tlgy9",
        "colab_type": "text"
      },
      "source": [
        "####B"
      ]
    },
    {
      "cell_type": "code",
      "metadata": {
        "id": "CJBPtstVrk0W",
        "colab_type": "code",
        "colab": {
          "base_uri": "https://localhost:8080/",
          "height": 34
        },
        "outputId": "8c959c64-e10c-496c-f5b7-25fdd129b475"
      },
      "source": [
        "#bootstrap pivot CI\n",
        "delta_arr = [] \n",
        "for b in range(400):\n",
        "  n_b = np.random.choice(n_200,200)\n",
        "  df_b = df_200.loc[n_b]\n",
        "  df_b = df_b[[\"heartRate\",\"currentSmoker\"]]\n",
        "  df_b_0 = df_b.loc[df_b['currentSmoker']==0].dropna()\n",
        "  df_b_1 = df_b.loc[df_b['currentSmoker']==1].dropna()\n",
        "\n",
        "  #calculate the mean for each category\n",
        "  median_0_b =df_b_0[\"heartRate\"].median()\n",
        "  median_1_b =df_b_1[\"heartRate\"].median()\n",
        "  delta_arr.append( median_0_b- median_1_b)\n",
        "\n",
        "delta_arr.sort()\n",
        "a = delta_arr[10]\n",
        "b = delta_arr[389]\n",
        "\n",
        "print(\"CI for delta: \", [a,b])"
      ],
      "execution_count": 22,
      "outputs": [
        {
          "output_type": "stream",
          "text": [
            "CI for delta:  [-3.0, 5.0]\n"
          ],
          "name": "stdout"
        }
      ]
    },
    {
      "cell_type": "markdown",
      "metadata": {
        "id": "cHGIyHktljAN",
        "colab_type": "text"
      },
      "source": [
        "####C"
      ]
    },
    {
      "cell_type": "code",
      "metadata": {
        "id": "yu4nZ9BwRiM-",
        "colab_type": "code",
        "colab": {
          "base_uri": "https://localhost:8080/",
          "height": 34
        },
        "outputId": "112dd811-9dce-472e-b093-a9fb04eb0a90"
      },
      "source": [
        "median_0_full =df_full_0[\"heartRate\"].median()\n",
        "median_1_full =df_full_1[\"heartRate\"].median()\n",
        "\n",
        "print(\"delta is: \", str(median_1_full- median_0_full))"
      ],
      "execution_count": 23,
      "outputs": [
        {
          "output_type": "stream",
          "text": [
            "delta is:  0.0\n"
          ],
          "name": "stdout"
        }
      ]
    },
    {
      "cell_type": "markdown",
      "metadata": {
        "id": "YEezrEFkswqJ",
        "colab_type": "text"
      },
      "source": [
        "as we can see the delta value is in the CI we calculate before."
      ]
    },
    {
      "cell_type": "markdown",
      "metadata": {
        "id": "8J8xdLXLmBeQ",
        "colab_type": "text"
      },
      "source": [
        "####D"
      ]
    },
    {
      "cell_type": "markdown",
      "metadata": {
        "id": "krOTi-3DwDNq",
        "colab_type": "text"
      },
      "source": [
        "$H_0 : F_{X_1} = F_{X_2} $\n",
        "\n",
        "$H_1 : F_{X_2} \\prec F_{X_1}$\n",
        "\n",
        "$T^{obs} = median_{X_1}-median_{X_2}$"
      ]
    },
    {
      "cell_type": "code",
      "metadata": {
        "id": "her-cdMKqztL",
        "colab_type": "code",
        "colab": {
          "base_uri": "https://localhost:8080/",
          "height": 51
        },
        "outputId": "d198a5f5-9aed-4582-93b8-fd4e4d844e70"
      },
      "source": [
        "#permutation test\n",
        "\n",
        "delta_median = median_0 - median_1\n",
        "cnt = 0\n",
        "permute_df =  df_200[[\"heartRate\",\"currentSmoker\"]].dropna()\n",
        "permute_df = permute_df.copy()\n",
        "\n",
        "for b in range(400):\n",
        "  permute_smokers = list(permute_df['currentSmoker'])\n",
        "  np.random.shuffle(permute_smokers)\n",
        "  permute_df['currentSmoker'] = permute_smokers\n",
        "  df_b_0 = permute_df.loc[permute_df['currentSmoker']==0]\n",
        "  df_b_1 = permute_df.loc[permute_df['currentSmoker']==1]\n",
        "\n",
        "  # calculate the mean for each category\n",
        "  median_0_b =df_b_0[\"heartRate\"].median()\n",
        "  median_1_b =df_b_1[\"heartRate\"].median()\n",
        "  delta_b_median = median_0_b- median_1_b\n",
        "  if delta_b_median >= delta_median:\n",
        "    cnt +=1\n",
        "\n",
        "pvalue_med = cnt/400\n",
        "\n",
        "if pvalue_med > 0.05:\n",
        "  print(\"don't reject H_0\")    \n",
        "else:\n",
        "  print(\"reject H_0\")\n",
        "\n",
        "print('the pvalue is:', pvalue_med )"
      ],
      "execution_count": 24,
      "outputs": [
        {
          "output_type": "stream",
          "text": [
            "don't reject H_0\n",
            "the pvalue is: 0.155\n"
          ],
          "name": "stdout"
        }
      ]
    },
    {
      "cell_type": "markdown",
      "metadata": {
        "id": "vG1O08lRtOKh",
        "colab_type": "text"
      },
      "source": [
        "####E\n",
        "\n",
        "As we learned in class the **T test** is for difference between means and not for difference between medians. therfore we cannot do T test for this case.\n",
        "\n",
        "As we learned in class **Wald test** is based on statistic that is asymptotically normal distributed.  It can be shown that the median in asymptotically normal distributed so we can use Wald test."
      ]
    },
    {
      "cell_type": "markdown",
      "metadata": {
        "id": "YqMi82HGz5Ef",
        "colab_type": "text"
      },
      "source": [
        "###Q5"
      ]
    },
    {
      "cell_type": "markdown",
      "metadata": {
        "id": "Tl8AISaDxoeA",
        "colab_type": "text"
      },
      "source": [
        "$H_0 : F_{X_1} = F_{X_2} $\n",
        "\n",
        "$H_1 : F_{X_2} \\prec F_{X_1}$\n",
        "\n",
        "$W_S^{obs} = \\sum_{i=i}^n S_i$"
      ]
    },
    {
      "cell_type": "code",
      "metadata": {
        "id": "sLYIfdoH1YbC",
        "colab_type": "code",
        "colab": {
          "base_uri": "https://localhost:8080/",
          "height": 54
        },
        "outputId": "3a5d33f6-43be-4a77-a0e4-537ac65e2bd0"
      },
      "source": [
        "print(\"dict for all the values we have and how much we have of each:\", heartRate_dict)"
      ],
      "execution_count": 25,
      "outputs": [
        {
          "output_type": "stream",
          "text": [
            "dict for all the values we have and how much we have of each: {50.0: 2, 53.0: 1, 54.0: 2, 55.0: 3, 56.0: 2, 60.0: 10, 62.0: 8, 63.0: 3, 64.0: 3, 65.0: 13, 66.0: 4, 67.0: 3, 68.0: 7, 69.0: 2, 70.0: 18, 72.0: 10, 73.0: 3, 74.0: 3, 75.0: 23, 76.0: 2, 77.0: 1, 78.0: 4, 79.0: 1, 80.0: 20, 82.0: 2, 84.0: 1, 85.0: 16, 86.0: 3, 87.0: 1, 88.0: 4, 90.0: 4, 92.0: 3, 94.0: 1, 95.0: 4, 96.0: 3, 98.0: 3, 100.0: 3, 107.0: 1, 110.0: 2, 120.0: 1}\n"
          ],
          "name": "stdout"
        }
      ]
    },
    {
      "cell_type": "markdown",
      "metadata": {
        "id": "BdrDvsfM0FAC",
        "colab_type": "text"
      },
      "source": [
        "as we can see we have a lot of ties values so we need to consider them, and because we have ties we can not use the normal approximation - because now the permutation does not come from uniform ditribution and the symmetry does not hold anymore.\n",
        "therefore, we will use sampling instead.\n",
        "\n"
      ]
    },
    {
      "cell_type": "code",
      "metadata": {
        "id": "LRYy7d95ac5D",
        "colab_type": "code",
        "colab": {}
      },
      "source": [
        "def calc_degree(df):\n",
        "  ST_b = 0\n",
        "  heartRate_dict = dict()\n",
        "  heartRate_degree = dict()\n",
        "\n",
        "# dict that says:{ heartRate : #times it appears}\n",
        "  for index, row in df.iterrows():\n",
        "    if row['heartRate'] in heartRate_dict.keys():\n",
        "      heartRate_dict[row['heartRate']] +=1\n",
        "    else:\n",
        "      heartRate_dict[row['heartRate']] =1\n",
        "  heartRate_list = list(df['heartRate'])  \n",
        "\n",
        "# dict that says:{ heartRate : its degree}\n",
        "\n",
        "  for idx, item in enumerate(heartRate_list):\n",
        "    if heartRate_dict[item] == 1:\n",
        "      heartRate_degree[item] = idx+1\n",
        "    else:\n",
        "      if item not in heartRate_degree.keys():\n",
        "        idx_end = idx + heartRate_dict[item]\n",
        "        heartRate_degree[item] = (idx + 1 +idx_end)/2\n",
        "        \n",
        "# TS for the current data (the degree of all the smokers)\n",
        "  for index, row in df.iterrows():\n",
        "    if row['currentSmoker'] ==0 :\n",
        "      ST_b += heartRate_degree[row['heartRate']]\n",
        "  return ST_b\n",
        "\n",
        "  "
      ],
      "execution_count": 26,
      "outputs": []
    },
    {
      "cell_type": "code",
      "metadata": {
        "id": "c5-tlg8x31RJ",
        "colab_type": "code",
        "colab": {
          "base_uri": "https://localhost:8080/",
          "height": 51
        },
        "outputId": "641d6fd2-8195-4657-b26f-2e64bcfc29a4"
      },
      "source": [
        "TS = calc_degree(df_200.sort_values('heartRate')) \n",
        "TS_B = [] \n",
        "\n",
        "cnt = 0\n",
        "permute_df =  df_200[[\"heartRate\",\"currentSmoker\"]].dropna()\n",
        "permute_df = permute_df.copy()\n",
        "\n",
        "\n",
        "for b in range(400):\n",
        "  permute_smokers = list(permute_df['currentSmoker'])\n",
        "  np.random.shuffle(permute_smokers)\n",
        "  permute_df['currentSmoker'] = permute_smokers\n",
        "  permute_df = permute_df[[\"heartRate\",\"currentSmoker\"]].sort_values('heartRate')\n",
        "  TS_B.append(calc_degree(permute_df))\n",
        "\n",
        "cnt = 0\n",
        "for ts in TS_B:\n",
        "  if ts >= TS:\n",
        "    cnt+=1\n",
        "\n",
        "pvalue_permute = cnt/400\n",
        "\n",
        "if pvalue_permute > 0.05:\n",
        "  print(\"don't reject H_0\")    \n",
        "else:\n",
        "  print(\"reject H_0\")\n",
        "\n",
        "print('the pvalue is:', pvalue_permute )"
      ],
      "execution_count": 27,
      "outputs": [
        {
          "output_type": "stream",
          "text": [
            "don't reject H_0\n",
            "the pvalue is: 0.5825\n"
          ],
          "name": "stdout"
        }
      ]
    }
  ]
}
